{
 "cells": [
  {
   "cell_type": "markdown",
   "id": "26b2499c-954a-46d5-ad19-0a24cba4d845",
   "metadata": {},
   "source": [
    "# Instalamos dependencias:"
   ]
  },
  {
   "cell_type": "code",
   "execution_count": 2,
   "id": "b6bc1114-df60-4950-a903-1cc4e79bb2cb",
   "metadata": {
    "collapsed": true,
    "jupyter": {
     "