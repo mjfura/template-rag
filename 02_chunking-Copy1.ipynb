{
 "cells": [
  {
   "cell_type": "markdown",
   "metadata": {},
   "source": [
    "# Lesson 2: Document Chunking Strategies\n",
    "\n",
    "**Objective**: Learn how to effectively segment documents for better retrieval performance.\n",
    "\n",
    "**Topics**:\n",
    "\n",
    "- Chunking techniques: token-level, sentence-level, semantic-level\n",
    "- Balancing context preservation with retrieval precision\n",
    "- Small2Big and sliding window techniques\n",
    "\n",
    "**Practical Task**: Implement chunking strategies on a sample dataset.\n",
    "\n",
    "**Resources**:\n",
    "- The five levels of chunking\n",
    "- A guide to chunking\n",
    "- [Visualizing chunking](https://chunkviz.up.railway.app/)\n",
    "- [Full stack retrieval](https://github.com/FullStackRetrieval-com/RetrievalTutorials/blob/a4570f3c4883eb9b835b0ee18990e62298f518ef/tutorials/LevelsOfTextSplitting/5_Levels_Of_Text_Splitting.ipynb)"
   ]
  },
  {
   "cell_type": "markdown",
   "metadata": {},
   "source": [
    "## Data loading, Chunking techniques y Text processing\n"
   ]
  },
  {
   "cell_type": "markdown",
   "metadata": {},
   "source": [
    "### Level 1 - Character splitting\n",
    "\n",
    "Es el metodo de *chunking* mas simple y basica, es el proceso por el cual solo dividimos el texto en *chunks* de tamaño *N* caracteres sin importar su contenido o forma.\n",
    "\n",
    "Este metodo **NO** es recomendado para ninguna aplicación, pero puede ser un buen punto de partida para entender los fundamentos.\n",
    "\n",
    "- Pros: facil y rapido\n",
    "- Cons: Muy rigido y no toma en cuenta la estructura del texto\n",
    "\n",
    "Conceptos:\n",
    "\n",
    "- **Chunk size**: El número de caracteres que define el largo del chunk.\n",
    "- **Chunk overlap**: La cantidad de caracteres que tiene que sobrelaparse en chunks secuenciales. Esto es para evitar cortar el contexto en multiples partes, perdiendo el significado semantico de algún pasaje. Esto creara duplicados entre los chunks."
   ]
  },
  {
   "cell_type": "markdown",
   "metadata": {},
   "source": [
    "#### Ejemplo manual"
   ]
  },
  {
   "cell_type": "code",
   "execution_count": null,
   "metadata": {},
   "outputs": [],
   "source": [
    "from pprint import pprint"
   ]
  },
  {
   "cell_type": "code",
   "execution_count": null,
   "metadata": {},
   "outputs": [],
   "source": [
    "text = \"This is the text I would like to chunk up. It is the example text for this exercise\"\n",
    "\n",
    "# Creamos una lista vacía para guardar los chunks\n",
    "chunks = []\n",
    "\n",
    "# Definimos el tamaño de los chunks\n",
    "chunk_size = 35\n",
    "\n",
    "# Recorremos el texto en rangos de chunk_size\n",
    "for i in range(0, len(text), chunk_size):\n",
    "    chunk = text[i:i + chunk_size]\n",
    "    chunks.append(chunk)\n",
    "chunks"
   ]
  },
  {
   "cell_type": "code",
   "execution_count": null,
   "metadata": {},
   "outputs": [],
   "source": [
    "len(chunks[0])"
   ]
  },
  {
   "cell_type": "markdown",
   "metadata": {},
   "source": [
    "#### Usando el framework LangChain\n",
    "\n",
    "- Normalmente para aplicaciones de RAG no trabajamos con strings, trabajamos con objetos del tipo **Document**. Estos objetos contienen el texto que queremos pero ademas contienen metadata adicional que permite hacer filtros mas complejos."
   ]
  },
  {
   "cell_type": "code",
   "execution_count": null,
   "metadata": {},
   "outputs": [],
   "source": [
    "pip install langchain"
   ]
  },
  {
   "cell_type": "code",
   "execution_count": 6,
   "metadata": {},
   "outputs": [],
   "source": [
    "from langchain.text_splitter import CharacterTextSplitter"
   ]
  },
  {
   "cell_type": "markdown",
   "metadata": {},
   "source": [
    "Cargamos el text splitter de LangChain, necesitamos especificar el chunk overlap y el separator, si no los entregamos tendremos resultados no deseados."
   ]
  },
  {
   "cell_type": "code",
   "execution_count": 7,
   "metadata": {},
   "outputs": [],
   "source": [
    "# Sin overlap\n",
    "text_splitter = CharacterTextSplitter(\n",
    "                    chunk_size = 35,\n",
    "                    chunk_overlap=0,\n",
    "                    separator='',\n",
    "                    strip_whitespace=True)"
   ]
  },
  {
   "cell_type": "code",
   "execution_count": 8,
   "metadata": {},
   "outputs": [
    {
     "data": {
      "text/plain": [
       "[Document(metadata={}, page_content='This is the text I would like to ch'),\n",
       " Document(metadata={}, page_content='unk up. It is the example text for'),\n",
       " Document(metadata={}, page_content='this exercise')]"
      ]
     },
     "execution_count": 8,
     "metadata": {},
     "output_type": "execute_result"
    }
   ],
   "source": [
    "text_splitter.create_documents([text])"
   ]
  },
  {
   "attachments": {
    "image.png": {
     "image/png": "[encoded data removed]"
    }
   },
   "cell_type": "markdown",
   "metadata": {},
   "source": [
    "![image.png](attachment:image.png)"
   ]
  },
  {
   "cell_type": "markdown",
   "metadata": {},
   "source": [
    "Si observamos logramos el mismo resultado que con la opción manual, pero ahora tenemos las estructuras de datos que son compatibles con el resto del framework. Ademas, pudimos hacer un poco de limpieza del string, en el caso del espacio en blanco de la segunda linea, utilizando strip_whitespace=True."
   ]
  },
  {
   "cell_type": "code",
   "execution_count": 9,
   "metadata": {},
   "outputs": [
    {
     "data": {
      "text/plain": [
       "[Document(metadata={}, page_content='This is the text I would like to ch'),\n",
       " Document(metadata={}, page_content='o chunk up. It is the example text'),\n",
       " Document(metadata={}, page_content='ext for this exercise')]"
      ]
     },
     "execution_count": 9,
     "metadata": {},
     "output_type": "execute_result"
    }
   ],
   "source": [
    "# Con overlap\n",
    "text_splitter = CharacterTextSplitter(\n",
    "                    chunk_size = 35,\n",
    "                    chunk_overlap=4,\n",
    "                    separator='',\n",
    "                    strip_whitespace=True)\n",
    "text_splitter.create_documents([text])"
   ]
  },
  {
   "attachments": {
    "image.png": {
     "image/png": "[encoded data removed]"
    }
   },
   "cell_type": "markdown",
   "metadata": {},
   "source": [
    "![image.png](attachment:image.png)\n",
    "\n",
    "Si nos fijamos tenemos los mismos chunks, pero entre el chunk 1 y 2 y el chunk 2 y 3 algunos caracteres se repiten."
   ]
  },
  {
   "cell_type": "markdown",
   "metadata": {},
   "source": [
    "### Level 2: Recursive Character Text Splitting\n",
    "\n",
    "Uno de los contras del metodo anterior es que no tomamos en cuenta la estructura del documentos. Simplemente contamos caracteres y cortamos. \n",
    "\n",
    "**Recursive Character Text Splitter** nos ayuda a considerar al menos la estructura del texto, vamos a especificar una serie de separadores que se usaran para separar nuestro docuemento.\n",
    "\n",
    "Estos son los separadores disponibles:\n",
    "\n",
    "- \"\\n\\n\" - Doble linea, un separador comun de parrafos.\n",
    "- \"\\n\" - Salto de linea, un separador comun de oraciones.\n",
    "- \" \" - Espacio en blanco, un separador comun de palabras.\n",
    "- \"\" - Caracter vacio, un separador comun de caracteres.\n",
    "\n",
    "Este es la solución mas efectiva para comenzar a prototipar una aplicación rapidamente. Si no sabemos cual utilizar, esta es la primera opción para probar."
   ]
  },
  {
   "cell_type": "code",
   "execution_count": 10,
   "metadata": {},
   "outputs": [],
   "source": [
    "# Imports\n",
    "from langchain.text_splitter import RecursiveCharacterTextSplitter"
   ]
  },
  {
   "cell_type": "markdown",
   "metadata": {},
   "source": [
    "Vamos a probar un texto mas largo"
   ]
  },
  {
   "cell_type": "code",
   "execution_count": 11,
   "metadata": {},
   "outputs": [],
   "source": [
    "text = \"\"\"\n",
    "One of the most important things I didn't understand about the world when I was a child is the degree to which the returns for performance are superlinear.\n",
    "\n",
    "Teachers and coaches implicitly told us the returns were linear. \"You get out,\" I heard a thousand times, \"what you put in.\" They meant well, but this is rarely true. If your product is only half as good as your competitor's, you don't get half as many customers. You get no customers, and you go out of business.\n",
    "\n",
    "It's obviously true that the returns for performance are superlinear in business. Some think this is a flaw of capitalism, and that if we changed the rules it would stop being true. But superlinear returns for performance are a feature of the world, not an artifact of rules we've invented. We see the same pattern in fame, power, military victories, knowledge, and even benefit to humanity. In all of these, the rich get richer. [1]\n",
    "\"\"\""
   ]
  },
  {
   "cell_type": "code",
   "execution_count": 12,
   "metadata": {},
   "outputs": [],
   "source": [
    "text_splitter = RecursiveCharacterTextSplitter(chunk_size = 65, chunk_overlap=0)"
   ]
  },
  {
   "cell_type": "code",
   "execution_count": 13,
   "metadata": {},
   "outputs": [
    {
     "data": {
      "text/plain": [
       "[Document(metadata={}, page_content=\"One of the most important things I didn't understand about the\"),\n",
       " Document(metadata={}, page_content='world when I was a child is the degree to which the returns for'),\n",
       " Document(metadata={}, page_content='performance are superlinear.'),\n",
       " Document(metadata={}, page_content='Teachers and coaches implicitly told us the returns were linear.'),\n",
       " Document(metadata={}, page_content='\"You get out,\" I heard a thousand times, \"what you put in.\" They'),\n",
       " Document(metadata={}, page_content='meant well, but this is rarely true. If your product is only'),\n",
       " Document(metadata={}, page_content=\"half as good as your competitor's, you don't get half as many\"),\n",
       " Document(metadata={}, page_content='customers. You get no customers, and you go out of business.'),\n",
       " Document(metadata={}, page_content=\"It's obviously true that the returns for performance are\"),\n",
       " Document(metadata={}, page_content='superlinear in business. Some think this is a flaw of'),\n",
       " Document(metadata={}, page_content='capitalism, and that if we changed the rules it would stop being'),\n",
       " Document(metadata={}, page_content='true. But superlinear returns for performance are a feature of'),\n",
       " Document(metadata={}, page_content=\"the world, not an artifact of rules we've invented. We see the\"),\n",
       " Document(metadata={}, page_content='same pattern in fame, power, military victories, knowledge, and'),\n",
       " Document(metadata={}, page_content='even benefit to humanity. In all of these, the rich get richer.'),\n",
       " Document(metadata={}, page_content='[1]')]"
      ]
     },
     "execution_count": 13,
     "metadata": {},
     "output_type": "execute_result"
    }
   ],
   "source": [
    "split_recursive_character = text_splitter.create_documents([text])\n",
    "split_recursive_character"
   ]
  },
  {
   "cell_type": "markdown",
   "metadata": {},
   "source": [
    "Si nos fijamos, varios de los chunks terminana con un **\".\"**. Esto es porque probablemente son el fin de un parrafo y el splitter primero revisa si existe el doble salto de linea.\n",
    "\n",
    "Una vez que los parrafos se separaron, el splitter mira el chunk size, si el demasiado grande, lo separa por el separador que sigue. Si el chunk sigue siendo muy largo, continua con todos los separadores."
   ]
  },
  {
   "cell_type": "code",
   "execution_count": 14,
   "metadata": {},
   "outputs": [
    {
     "data": {
      "text/plain": [
       "[Document(metadata={}, page_content=\"One of the most important things I didn't understand about the world when I was a child is the degree to which the returns for performance are superlinear.\"),\n",
       " Document(metadata={}, page_content='Teachers and coaches implicitly told us the returns were linear. \"You get out,\" I heard a thousand times, \"what you put in.\" They meant well, but this is rarely true. If your product is only half as good as your competitor\\'s, you don\\'t get half as many customers. You get no customers, and you go out of business.'),\n",
       " Document(metadata={}, page_content=\"It's obviously true that the returns for performance are superlinear in business. Some think this is a flaw of capitalism, and that if we changed the rules it would stop being true. But superlinear returns for performance are a feature of the world, not an artifact of rules we've invented. We see the same pattern in fame, power, military victories, knowledge, and even benefit to humanity. In all of these, the rich get richer. [1]\")]"
      ]
     },
     "execution_count": 14,
     "metadata": {},
     "output_type": "execute_result"
    }
   ],
   "source": [
    "text_splitter = RecursiveCharacterTextSplitter(chunk_size = 450, chunk_overlap=0)\n",
    "text_splitter.create_documents([text])"
   ]
  },
  {
   "attachments": {
    "image.png": {
     "image/png": "[encoded data removed]"
    }
   },
   "cell_type": "markdown",
   "metadata": {},
   "source": [
    "![image.png](attachment:image.png)\n",
    "\n"
   ]
  },
  {
   "cell_type": "markdown",
   "metadata": {},
   "source": [
    "## Level 3: Document Specific Splitting\n",
    "\n",
    "Seguimos aumentando la complejidad, ahora veamos distintos tipos de documentos distintos a un .txt. Que pasa si tenemos imagenes? es un PDF? o codigo?\n",
    "\n",
    "Las aproximaciones anteriores no van a funcionar muy bien con este tipo de documentos.\n",
    "\n",
    "Este nivel es todo acerca de ajustar la estrategia de **chunking** a nuestro caso de uso. Por ahora solo veremos como tratamos PDF complejos. Pero también podemos procesar otro tipo de archivos, como Markdown, Python, JS, etc."
   ]
  },
  {
   "cell_type": "markdown",
   "metadata": {},
   "source": [
    "### Markdown"
   ]
  },
  {
   "cell_type": "code",
   "execution_count": null,
   "metadata": {},
   "outputs": [],
   "source": [
    "pip install langchain_community"
   ]
  },
  {
   "cell_type": "code",
   "execution_count": 15,
   "metadata": {},
   "outputs": [],
   "source": [
    "from langchain_community.document_loaders import UnstructuredMarkdownLoader"
   ]
  },
  {
   "cell_type": "code",
   "execution_count": 16,
   "metadata": {
    "collapsed": true,
    "jupyter": {
     "outputs_hidden": true
    },
    "scrolled": true
   },
   "outputs": [
    {
     "name": "stdout",
     "output_type": "stream",
     "text": [
      "Requirement already satisfied: unstructured in /opt/homebrew/anaconda3/envs/actividad_1/lib/python3.11/site-packages (0.16.5)\n",
      "Requirement already satisfied: chardet in /opt/homebrew/anaconda3/envs/actividad_1/lib/python3.11/site-packages (from unstructured) (5.2.0)\n",
      "Requirement already satisfied: filetype in /opt/homebrew/anaconda3/envs/actividad_1/lib/python3.11/site-packages (from unstructured) (1.2.0)\n",
      "Requirement already satisfied: python-magic in /opt/homebrew/anaconda3/envs/actividad_1/lib/python3.11/site-packages (from unstructured) (0.4.27)\n",
      "Requirement already satisfied: lxml in /opt/homebrew/anaconda3/envs/actividad_1/lib/python3.11/site-packages (from unstructured) (5.3.0)\n",
      "Requirement already satisfied: nltk in /opt/homebrew/anaconda3/envs/actividad_1/lib/python3.11/site-packages (from unstructured) (3.9.1)\n",
      "Requirement already satisfied: requests in /opt/homebrew/anaconda3/envs/actividad_1/lib/python3.11/site-packages (from unstructured) (2.32.3)\n",
      "Requirement already satisfied: beautifulsoup4 in /opt/homebrew/anaconda3/envs/actividad_1/lib/python3.11/site-packages (from unstructured) (4.12.3)\n",
      "Requirement already satisfied: emoji in /opt/homebrew/anaconda3/envs/actividad_1/lib/python3.11/site-packages (from unstructured) (2.14.0)\n",
      "Requirement already satisfied: dataclasses-json in /opt/homebrew/anaconda3/envs/actividad_1/lib/python3.11/site-packages (from unstructured) (0.5.14)\n",
      "Requirement already satisfied: python-iso639 in /opt/homebrew/anaconda3/envs/actividad_1/lib/python3.11/site-packages (from unstructured) (2024.10.22)\n",
      "Requirement already satisfied: langdetect in /opt/homebrew/anaconda3/envs/actividad_1/lib/python3.11/site-packages (from unstructured) (1.0.9)\n",
      "Requirement already satisfied: numpy<2 in /opt/homebrew/anaconda3/envs/actividad_1/lib/python3.11/site-packages (from unstructured) (1.26.4)\n",
      "Requirement already satisfied: rapidfuzz in /opt/homebrew/anaconda3/envs/actividad_1/lib/python3.11/site-packages (from unstructured) (3.10.1)\n",
      "Requirement already satisfied: backoff in /opt/homebrew/anaconda3/envs/actividad_1/lib/python3.11/site-packages (from unstructured) (2.2.1)\n",
      "Requirement already satisfied: typing-extensions in /opt/homebrew/anaconda3/envs/actividad_1/lib/python3.11/site-packages (from unstructured) (4.12.2)\n",
      "Requirement already satisfied: unstructured-client in /opt/homebrew/anaconda3/envs/actividad_1/lib/python3.11/site-packages (from unstructured) (0.27.0)\n",
      "Requirement already satisfied: wrapt in /opt/homebrew/anaconda3/envs/actividad_1/lib/python3.11/site-packages (from unstructured) (1.16.0)\n",
      "Requirement already satisfied: tqdm in /opt/homebrew/anaconda3/envs/actividad_1/lib/python3.11/site-packages (from unstructured) (4.67.0)\n",
      "Requirement already satisfied: psutil in /opt/homebrew/anaconda3/envs/actividad_1/lib/python3.11/site-packages (from unstructured) (6.1.0)\n",
      "Requirement already satisfied: python-oxmsg in /opt/homebrew/anaconda3/envs/actividad_1/lib/python3.11/site-packages (from unstructured) (0.0.1)\n",
      "Requirement already satisfied: html5lib in /opt/homebrew/anaconda3/envs/actividad_1/lib/python3.11/site-packages (from unstructured) (1.1)\n",
      "Requirement already satisfied: soupsieve>1.2 in /opt/homebrew/anaconda3/envs/actividad_1/lib/python3.11/site-packages (from beautifulsoup4->unstructured) (2.6)\n",
      "Requirement already satisfied: marshmallow<4.0.0,>=3.18.0 in /opt/homebrew/anaconda3/envs/actividad_1/lib/python3.11/site-packages (from dataclasses-json->unstructured) (3.23.1)\n",
      "Requirement already satisfied: typing-inspect<1,>=0.4.0 in /opt/homebrew/anaconda3/envs/actividad_1/lib/python3.11/site-packages (from dataclasses-json->unstructured) (0.9.0)\n",
      "Requirement already satisfied: six>=1.9 in /opt/homebrew/anaconda3/envs/actividad_1/lib/python3.11/site-packages (from html5lib->unstructured) (1.16.0)\n",
      "Requirement already satisfied: webencodings in /opt/homebrew/anaconda3/envs/actividad_1/lib/python3.11/site-packages (from html5lib->unstructured) (0.5.1)\n",
      "Requirement already satisfied: click in /opt/homebrew/anaconda3/envs/actividad_1/lib/python3.11/site-packages (from nltk->unstructured) (8.1.7)\n",
      "Requirement already satisfied: joblib in /opt/homebrew/anaconda3/envs/actividad_1/lib/python3.11/site-packages (from nltk->unstructured) (1.4.2)\n",
      "Requirement already satisfied: regex>=2021.8.3 in /opt/homebrew/anaconda3/envs/actividad_1/lib/python3.11/site-packages (from nltk->unstructured) (2024.11.6)\n",
      "Requirement already satisfied: olefile in /opt/homebrew/anaconda3/envs/actividad_1/lib/python3.11/site-packages (from python-oxmsg->unstructured) (0.47)\n",
      "Requirement already satisfied: charset-normalizer<4,>=2 in /opt/homebrew/anaconda3/envs/actividad_1/lib/python3.11/site-packages (from requests->unstructured) (3.4.0)\n",
      "Requirement already satisfied: idna<4,>=2.5 in /opt/homebrew/anaconda3/envs/actividad_1/lib/python3.11/site-packages (from requests->unstructured) (3.10)\n",
      "Requirement already satisfied: urllib3<3,>=1.21.1 in /opt/homebrew/anaconda3/envs/actividad_1/lib/python3.11/site-packages (from requests->unstructured) (1.26.20)\n",
      "Requirement already satisfied: certifi>=2017.4.17 in /opt/homebrew/anaconda3/envs/actividad_1/lib/python3.11/site-packages (from requests->unstructured) (2024.8.30)\n",
      "Requirement already satisfied: cryptography>=3.1 in /opt/homebrew/anaconda3/envs/actividad_1/lib/python3.11/site-packages (from unstructured-client->unstructured) (43.0.3)\n",
      "Requirement already satisfied: eval-type-backport<0.3.0,>=0.2.0 in /opt/homebrew/anaconda3/envs/actividad_1/lib/python3.11/site-packages (from unstructured-client->unstructured) (0.2.0)\n",
      "Requirement already satisfied: httpx>=0.27.0 in /opt/homebrew/anaconda3/envs/actividad_1/lib/python3.11/site-packages (from unstructured-client->unstructured) (0.27.2)\n",
      "Requirement already satisfied: jsonpath-python<2.0.0,>=1.0.6 in /opt/homebrew/anaconda3/envs/actividad_1/lib/python3.11/site-packages (from unstructured-client->unstructured) (1.0.6)\n",
      "Requirement already satisfied: nest-asyncio>=1.6.0 in /opt/homebrew/anaconda3/envs/actividad_1/lib/python3.11/site-packages (from unstructured-client->unstructured) (1.6.0)\n",
      "Requirement already satisfied: pydantic<2.10.0,>=2.9.2 in /opt/homebrew/anaconda3/envs/actividad_1/lib/python3.11/site-packages (from unstructured-client->unstructured) (2.9.2)\n",
      "Requirement already satisfied: pypdf>=4.0 in /opt/homebrew/anaconda3/envs/actividad_1/lib/python3.11/site-packages (from unstructured-client->unstructured) (5.1.0)\n",
      "Requirement already satisfied: python-dateutil==2.8.2 in /opt/homebrew/anaconda3/envs/actividad_1/lib/python3.11/site-packages (from unstructured-client->unstructured) (2.8.2)\n",
      "Requirement already satisfied: requests-toolbelt>=1.0.0 in /opt/homebrew/anaconda3/envs/actividad_1/lib/python3.11/site-packages (from unstructured-client->unstructured) (1.0.0)\n",
      "Requirement already satisfied: cffi>=1.12 in /opt/homebrew/anaconda3/envs/actividad_1/lib/python3.11/site-packages (from cryptography>=3.1->unstructured-client->unstructured) (1.17.1)\n",
      "Requirement already satisfied: anyio in /opt/homebrew/anaconda3/envs/actividad_1/lib/python3.11/site-packages (from httpx>=0.27.0->unstructured-client->unstructured) (4.6.2.post1)\n",
      "Requirement already satisfied: httpcore==1.* in /opt/homebrew/anaconda3/envs/actividad_1/lib/python3.11/site-packages (from httpx>=0.27.0->unstructured-client->unstructured) (1.0.7)\n",
      "Requirement already satisfied: sniffio in /opt/homebrew/anaconda3/envs/actividad_1/lib/python3.11/site-packages (from httpx>=0.27.0->unstructured-client->unstructured) (1.3.1)\n",
      "Requirement already satisfied: h11<0.15,>=0.13 in /opt/homebrew/anaconda3/envs/actividad_1/lib/python3.11/site-packages (from httpcore==1.*->httpx>=0.27.0->unstructured-client->unstructured) (0.14.0)\n",
      "Requirement already satisfied: packaging>=17.0 in /opt/homebrew/anaconda3/envs/actividad_1/lib/python3.11/site-packages (from marshmallow<4.0.0,>=3.18.0->dataclasses-json->unstructured) (23.2)\n",
      "Requirement already satisfied: annotated-types>=0.6.0 in /opt/homebrew/anaconda3/envs/actividad_1/lib/python3.11/site-packages (from pydantic<2.10.0,>=2.9.2->unstructured-client->unstructured) (0.7.0)\n",
      "Requirement already satisfied: pydantic-core==2.23.4 in /opt/homebrew/anaconda3/envs/actividad_1/lib/python3.11/site-packages (from pydantic<2.10.0,>=2.9.2->unstructured-client->unstructured) (2.23.4)\n",
      "Requirement already satisfied: mypy-extensions>=0.3.0 in /opt/homebrew/anaconda3/envs/actividad_1/lib/python3.11/site-packages (from typing-inspect<1,>=0.4.0->dataclasses-json->unstructured) (1.0.0)\n",
      "Requirement already satisfied: pycparser in /opt/homebrew/anaconda3/envs/actividad_1/lib/python3.11/site-packages (from cffi>=1.12->cryptography>=3.1->unstructured-client->unstructured) (2.22)\n",
      "Note: you may need to restart the kernel to use updated packages.\n"
     ]
    }
   ],
   "source": [
    "pip install unstructured"
   ]
  },
  {
   "cell_type": "code",
   "execution_count": null,
   "metadata": {},
   "outputs": [],
   "source": [
    "pip install markdown\n"
   ]
  },
  {
   "cell_type": "code",
   "execution_count": 17,
   "metadata": {},
   "outputs": [
    {
     "data": {
      "text/plain": [
       "[Document(metadata={'source': './example.md', 'category_depth': 0, 'languages': ['eng'], 'file_directory': '.', 'filename': 'example.md', 'filetype': 'text/markdown', 'last_modified': '2024-11-15T19:37:41', 'category': 'Title', 'element_id': 'ec60e3fdcbd7f78c6e9acfb3f3293d42'}, page_content='Introduction to Artificial Intelligence'),\n",
       " Document(metadata={'source': './example.md', 'languages': ['eng'], 'file_directory': '.', 'filename': 'example.md', 'filetype': 'text/markdown', 'last_modified': '2024-11-15T19:37:41', 'parent_id': 'ec60e3fdcbd7f78c6e9acfb3f3293d42', 'category': 'NarrativeText', 'element_id': '56f3e14dde7d37ff3009e4e0f066274b'}, page_content='Artificial Intelligence (AI) refers to the simulation of human intelligence in machines that are programmed to think and learn. These intelligent machines can perform tasks typically requiring human intelligence, such as visual perception, speech recognition, decision-making, and language translation.'),\n",
       " Document(metadata={'source': './example.md', 'category_depth': 1, 'languages': ['eng'], 'file_directory': '.', 'filename': 'example.md', 'filetype': 'text/markdown', 'last_modified': '2024-11-15T19:37:41', 'parent_id': 'ec60e3fdcbd7f78c6e9acfb3f3293d42', 'category': 'Title', 'element_id': '3512fd7874984dfe2c4ddd001def19a1'}, page_content='History of AI'),\n",
       " Document(metadata={'source': './example.md', 'languages': ['eng'], 'file_directory': '.', 'filename': 'example.md', 'filetype': 'text/markdown', 'last_modified': '2024-11-15T19:37:41', 'parent_id': '3512fd7874984dfe2c4ddd001def19a1', 'category': 'NarrativeText', 'element_id': '7894f2c048e7fba2d9a99785873878dc'}, page_content='The concept of AI has been around for decades, with early development efforts dating back to the mid-20th century. In 1956, the term \"Artificial Intelligence\" was first coined at a conference held at Dartmouth College, which marked the birth of AI as an academic field. Over the years, AI has experienced several \"AI winters\" where progress stagnated, but recent advancements in machine learning and data availability have reignited widespread interest.'),\n",
       " Document(metadata={'source': './example.md', 'category_depth': 1, 'languages': ['eng'], 'file_directory': '.', 'filename': 'example.md', 'filetype': 'text/markdown', 'last_modified': '2024-11-15T19:37:41', 'parent_id': 'ec60e3fdcbd7f78c6e9acfb3f3293d42', 'category': 'Title', 'element_id': '7609334dadf7942b2f28935c1c567de1'}, page_content='Types of AI'),\n",
       " Document(metadata={'source': './example.md', 'category_depth': 2, 'languages': ['eng'], 'file_directory': '.', 'filename': 'example.md', 'filetype': 'text/markdown', 'last_modified': '2024-11-15T19:37:41', 'parent_id': '7609334dadf7942b2f28935c1c567de1', 'category': 'Title', 'element_id': 'e26dc2c21f8449a68fce1bc8081575b8'}, page_content='1. Narrow AI'),\n",
       " Document(metadata={'source': './example.md', 'languages': ['eng'], 'file_directory': '.', 'filename': 'example.md', 'filetype': 'text/markdown', 'last_modified': '2024-11-15T19:37:41', 'parent_id': 'e26dc2c21f8449a68fce1bc8081575b8', 'category': 'NarrativeText', 'element_id': '08d627d409dd044fe0449898a9c14b26'}, page_content='Narrow AI, or Weak AI, refers to systems designed to handle specific tasks, such as facial recognition, voice assistants, or playing chess. These systems are highly effective in their respective areas but cannot perform tasks beyond their scope.'),\n",
       " Document(metadata={'source': './example.md', 'category_depth': 2, 'languages': ['eng'], 'file_directory': '.', 'filename': 'example.md', 'filetype': 'text/markdown', 'last_modified': '2024-11-15T19:37:41', 'parent_id': '7609334dadf7942b2f28935c1c567de1', 'category': 'Title', 'element_id': '52cfa92b65fd2f878b6f5221a2e1aebf'}, page_content='2. General AI'),\n",
       " Document(metadata={'source': './example.md', 'languages': ['eng'], 'file_directory': '.', 'filename': 'example.md', 'filetype': 'text/markdown', 'last_modified': '2024-11-15T19:37:41', 'parent_id': '52cfa92b65fd2f878b6f5221a2e1aebf', 'category': 'NarrativeText', 'element_id': '3e209c7c32f8d78412df7fefff35fbad'}, page_content='General AI, or Strong AI, refers to machines that possess the ability to perform any intellectual task that a human can do. This level of AI is still theoretical, as current technology does not yet support machines with such broad capabilities.'),\n",
       " Document(metadata={'source': './example.md', 'category_depth': 1, 'languages': ['eng'], 'file_directory': '.', 'filename': 'example.md', 'filetype': 'text/markdown', 'last_modified': '2024-11-15T19:37:41', 'parent_id': 'ec60e3fdcbd7f78c6e9acfb3f3293d42', 'category': 'Title', 'element_id': '5da758e1120a588c9a3986a35193d449'}, page_content='Key Technologies in AI'),\n",
       " Document(metadata={'source': './example.md', 'category_depth': 2, 'languages': ['eng'], 'file_directory': '.', 'filename': 'example.md', 'filetype': 'text/markdown', 'last_modified': '2024-11-15T19:37:41', 'parent_id': '5da758e1120a588c9a3986a35193d449', 'category': 'Title', 'element_id': '8246ef6bdc5ccf057bd926bbeae64be6'}, page_content='1. Machine Learning'),\n",
       " Document(metadata={'source': './example.md', 'languages': ['eng'], 'file_directory': '.', 'filename': 'example.md', 'filetype': 'text/markdown', 'last_modified': '2024-11-15T19:37:41', 'parent_id': '8246ef6bdc5ccf057bd926bbeae64be6', 'category': 'NarrativeText', 'element_id': '0c49a4bed41f4d1c78330959e6401303'}, page_content='Machine Learning (ML) is a subset of AI that enables systems to learn from data and improve their performance over time without being explicitly programmed. ML algorithms identify patterns in data and use them to make predictions or decisions.'),\n",
       " Document(metadata={'source': './example.md', 'category_depth': 2, 'languages': ['eng'], 'file_directory': '.', 'filename': 'example.md', 'filetype': 'text/markdown', 'last_modified': '2024-11-15T19:37:41', 'parent_id': '5da758e1120a588c9a3986a35193d449', 'category': 'Title', 'element_id': 'a6848f2383db1a5121a9081f041a4e34'}, page_content='2. Neural Networks'),\n",
       " Document(metadata={'source': './example.md', 'languages': ['eng'], 'file_directory': '.', 'filename': 'example.md', 'filetype': 'text/markdown', 'last_modified': '2024-11-15T19:37:41', 'parent_id': 'a6848f2383db1a5121a9081f041a4e34', 'category': 'NarrativeText', 'element_id': '3027f49dd68c4bdc2a90062f353299c9'}, page_content='Neural networks are inspired by the structure of the human brain. These algorithms consist of layers of interconnected nodes, or \"neurons,\" which process input data and gradually refine their output to achieve better accuracy. Deep learning is a subset of machine learning that uses neural networks with many layers.'),\n",
       " Document(metadata={'source': './example.md', 'category_depth': 2, 'languages': ['eng'], 'file_directory': '.', 'filename': 'example.md', 'filetype': 'text/markdown', 'last_modified': '2024-11-15T19:37:41', 'parent_id': '5da758e1120a588c9a3986a35193d449', 'category': 'Title', 'element_id': 'f1b99e31ba1421631f8663ade4395722'}, page_content='3. Natural Language Processing (NLP)'),\n",
       " Document(metadata={'source': './example.md', 'languages': ['eng'], 'file_directory': '.', 'filename': 'example.md', 'filetype': 'text/markdown', 'last_modified': '2024-11-15T19:37:41', 'parent_id': 'f1b99e31ba1421631f8663ade4395722', 'category': 'NarrativeText', 'element_id': '2575b808c41be1957536ae73baea764f'}, page_content='NLP enables machines to understand, interpret, and generate human language. It is used in various applications, such as chatbots, translation services, and voice assistants like Siri and Alexa.'),\n",
       " Document(metadata={'source': './example.md', 'category_depth': 1, 'languages': ['eng'], 'file_directory': '.', 'filename': 'example.md', 'filetype': 'text/markdown', 'last_modified': '2024-11-15T19:37:41', 'parent_id': 'ec60e3fdcbd7f78c6e9acfb3f3293d42', 'category': 'Title', 'element_id': '4ce444e843ea940b1e2ebd4e539df077'}, page_content='Applications of AI'),\n",
       " Document(metadata={'source': './example.md', 'languages': ['eng'], 'file_directory': '.', 'filename': 'example.md', 'filetype': 'text/markdown', 'last_modified': '2024-11-15T19:37:41', 'parent_id': '4ce444e843ea940b1e2ebd4e539df077', 'category': 'NarrativeText', 'element_id': 'e55abe4acff59c5d0bb9fa34589d7158'}, page_content='AI is transforming numerous industries, including:'),\n",
       " Document(metadata={'source': './example.md', 'category_depth': 1, 'emphasized_text_contents': ['Healthcare'], 'emphasized_text_tags': ['b'], 'languages': ['eng'], 'file_directory': '.', 'filename': 'example.md', 'filetype': 'text/markdown', 'last_modified': '2024-11-15T19:37:41', 'parent_id': '4ce444e843ea940b1e2ebd4e539df077', 'category': 'ListItem', 'element_id': '2f68ed097af7f9784eb96d3b54dd070e'}, page_content='Healthcare: AI-driven tools can assist doctors in diagnosing diseases, analyzing medical images, and predicting patient outcomes.'),\n",
       " Document(metadata={'source': './example.md', 'category_depth': 1, 'emphasized_text_contents': ['Finance'], 'emphasized_text_tags': ['b'], 'languages': ['eng'], 'file_directory': '.', 'filename': 'example.md', 'filetype': 'text/markdown', 'last_modified': '2024-11-15T19:37:41', 'parent_id': '4ce444e843ea940b1e2ebd4e539df077', 'category': 'ListItem', 'element_id': '013381e49658f5ec461d7142eb4a244f'}, page_content='Finance: AI algorithms help detect fraud, automate trading, and assess credit risks.'),\n",
       " Document(metadata={'source': './example.md', 'category_depth': 1, 'emphasized_text_contents': ['Manufacturing'], 'emphasized_text_tags': ['b'], 'languages': ['eng'], 'file_directory': '.', 'filename': 'example.md', 'filetype': 'text/markdown', 'last_modified': '2024-11-15T19:37:41', 'parent_id': '4ce444e843ea940b1e2ebd4e539df077', 'category': 'ListItem', 'element_id': '293fcfafa9a55a830d35ca9255309246'}, page_content='Manufacturing: AI-powered robots are revolutionizing automation by improving precision, efficiency, and safety in production lines.'),\n",
       " Document(metadata={'source': './example.md', 'category_depth': 1, 'emphasized_text_contents': ['Entertainment'], 'emphasized_text_tags': ['b'], 'languages': ['eng'], 'file_directory': '.', 'filename': 'example.md', 'filetype': 'text/markdown', 'last_modified': '2024-11-15T19:37:41', 'parent_id': '4ce444e843ea940b1e2ebd4e539df077', 'category': 'ListItem', 'element_id': 'e7b5b1f088b9ec6a5085208ceb6cd35a'}, page_content='Entertainment: AI is used in content recommendation systems, video game design, and even in creating music and art.'),\n",
       " Document(metadata={'source': './example.md', 'category_depth': 1, 'languages': ['eng'], 'file_directory': '.', 'filename': 'example.md', 'filetype': 'text/markdown', 'last_modified': '2024-11-15T19:37:41', 'parent_id': 'ec60e3fdcbd7f78c6e9acfb3f3293d42', 'category': 'Title', 'element_id': '2ddee28b98bfcc84c76ba8fd042ae633'}, page_content='Ethical Considerations in AI'),\n",
       " Document(metadata={'source': './example.md', 'languages': ['eng'], 'file_directory': '.', 'filename': 'example.md', 'filetype': 'text/markdown', 'last_modified': '2024-11-15T19:37:41', 'parent_id': '2ddee28b98bfcc84c76ba8fd042ae633', 'category': 'NarrativeText', 'element_id': '4230e39a0609272f113622eb6bbe7433'}, page_content='As AI becomes more integrated into society, ethical concerns have arisen. Some key issues include:'),\n",
       " Document(metadata={'source': './example.md', 'category_depth': 1, 'emphasized_text_contents': ['Bias'], 'emphasized_text_tags': ['b'], 'languages': ['eng'], 'file_directory': '.', 'filename': 'example.md', 'filetype': 'text/markdown', 'last_modified': '2024-11-15T19:37:41', 'parent_id': '2ddee28b98bfcc84c76ba8fd042ae633', 'category': 'ListItem', 'element_id': '476b3d9ab178acac04617920ae01e4d4'}, page_content='Bias: AI systems can inherit biases present in the data they are trained on, leading to discriminatory outcomes.'),\n",
       " Document(metadata={'source': './example.md', 'category_depth': 1, 'emphasized_text_contents': ['Privacy'], 'emphasized_text_tags': ['b'], 'languages': ['eng'], 'file_directory': '.', 'filename': 'example.md', 'filetype': 'text/markdown', 'last_modified': '2024-11-15T19:37:41', 'parent_id': '2ddee28b98bfcc84c76ba8fd042ae633', 'category': 'ListItem', 'element_id': 'ce58738b53ad86f793c395125888806f'}, page_content=\"Privacy: AI's ability to analyze vast amounts of data raises concerns about surveillance and the potential misuse of personal information.\"),\n",
       " Document(metadata={'source': './example.md', 'category_depth': 1, 'emphasized_text_contents': ['Job Displacement'], 'emphasized_text_tags': ['b'], 'languages': ['eng'], 'file_directory': '.', 'filename': 'example.md', 'filetype': 'text/markdown', 'last_modified': '2024-11-15T19:37:41', 'parent_id': '2ddee28b98bfcc84c76ba8fd042ae633', 'category': 'ListItem', 'element_id': '75c197c1664415a00ec82dfc190048fd'}, page_content='Job Displacement: Automation powered by AI could lead to significant job losses in certain industries, raising concerns about the future of employment.'),\n",
       " Document(metadata={'source': './example.md', 'category_depth': 1, 'languages': ['eng'], 'file_directory': '.', 'filename': 'example.md', 'filetype': 'text/markdown', 'last_modified': '2024-11-15T19:37:41', 'parent_id': 'ec60e3fdcbd7f78c6e9acfb3f3293d42', 'category': 'Title', 'element_id': 'f338ff1c9b6c7ad870f08745d7fe045f'}, page_content='The Future of AI'),\n",
       " Document(metadata={'source': './example.md', 'languages': ['eng'], 'file_directory': '.', 'filename': 'example.md', 'filetype': 'text/markdown', 'last_modified': '2024-11-15T19:37:41', 'parent_id': 'f338ff1c9b6c7ad870f08745d7fe045f', 'category': 'NarrativeText', 'element_id': '44f6c4f464bcb40ef6a1994dc19759fb'}, page_content='The future of AI holds great promise, but it also comes with challenges. Advancements in areas like quantum computing, ethics in AI, and further development of General AI may shape how AI impacts society in the coming decades. Continuous research and development are crucial for addressing current limitations and ensuring AI is used for the betterment of humanity.')]"
      ]
     },
     "execution_count": 17,
     "metadata": {},
     "output_type": "execute_result"
    }
   ],
   "source": [
    "markdown_path = \"./example.md\"\n",
    "loader = UnstructuredMarkdownLoader(markdown_path, mode=\"elements\")\n",
    "data = loader.load()\n",
    "data"
   ]
  },
  {
   "cell_type": "code",
   "execution_count": 18,
   "metadata": {},
   "outputs": [
    {
     "name": "stdout",
     "output_type": "stream",
     "text": [
      "('Narrow AI, or Weak AI, refers to systems designed to handle specific tasks, '\n",
      " 'such as facial recognition, voice assistants, or playing chess. These '\n",
      " 'systems are highly effective in their respective areas but cannot perform '\n",
      " 'tasks beyond their scope.')\n"
     ]
    }
   ],
   "source": [
    "pprint(data[6].page_content)"
   ]
  },
  {
   "cell_type": "code",
   "execution_count": 19,
   "metadata": {},
   "outputs": [
    {
     "data": {
      "text/plain": [
       "{'source': './example.md',\n",
       " 'languages': ['eng'],\n",
       " 'file_directory': '.',\n",
       " 'filename': 'example.md',\n",
       " 'filetype': 'text/markdown',\n",
       " 'last_modified': '2024-11-15T19:37:41',\n",
       " 'parent_id': 'e26dc2c21f8449a68fce1bc8081575b8',\n",
       " 'category': 'NarrativeText',\n",
       " 'element_id': '08d627d409dd044fe0449898a9c14b26'}"
      ]
     },
     "execution_count": 19,
     "metadata": {},
     "output_type": "execute_result"
    }
   ],
   "source": [
    "data[6].metadata\n"
   ]
  },
  {
   "cell_type": "markdown",
   "metadata": {},
   "source": [
    "### Python"
   ]
  },
  {
   "cell_type": "code",
   "execution_count": 20,
   "metadata": {},
   "outputs": [],
   "source": [
    "from langchain.text_splitter import PythonCodeTextSplitter"
   ]
  },
  {
   "cell_type": "code",
   "execution_count": 21,
   "metadata": {},
   "outputs": [],
   "source": [
    "python_text = \"\"\"\n",
    "class Person:\n",
    "  def __init__(self, name, age):\n",
    "    self.name = name\n",
    "    self.age = age\n",
    "\n",
    "p1 = Person(\"John\", 36)\n",
    "\n",
    "for i in range(10):\n",
    "    print (i)\n",
    "\"\"\""
   ]
  },
  {
   "cell_type": "code",
   "execution_count": 22,
   "metadata": {},
   "outputs": [],
   "source": [
    "python_splitter = PythonCodeTextSplitter(chunk_size=100, chunk_overlap=0)"
   ]
  },
  {
   "cell_type": "code",
   "execution_count": 23,
   "metadata": {},
   "outputs": [
    {
     "data": {
      "text/plain": [
       "[Document(metadata={}, page_content='class Person:\\n  def __init__(self, name, age):\\n    self.name = name\\n    self.age = age'),\n",
       " Document(metadata={}, page_content='p1 = Person(\"John\", 36)\\n\\nfor i in range(10):\\n    print (i)')]"
      ]
     },
     "execution_count": 23,
     "metadata": {},
     "output_type": "execute_result"
    }
   ],
   "source": [
    "python_splitter.create_documents([python_text])\n"
   ]
  },
  {
   "cell_type": "markdown",
   "metadata": {},
   "source": [
    "## Level 4: Semantic Chunking\n",
    "\n",
    "Considerando que las metodologías anteriores solo consideran dividir el texto en largos fijos, o definidos por limitadores estaticos. No parece extraño que ninguna de esas aproximaciones no tome en contexto el contenido de los documentos?\n",
    "\n",
    "Existe una mejor forma.\n",
    "\n",
    "Los embeddings representan el significado semantico de un string, Por si mismos, no son muy utiles, pero cuando se comparan con otros, es posible inferir la relación entre distintos strings.\n",
    "\n",
    "La hipotesis entonces es que chunks semanticamente similares deberían agruparse juntos."
   ]
  },
  {
   "cell_type": "code",
   "execution_count": 24,
   "metadata": {},
   "outputs": [
    {
     "name": "stdout",
     "output_type": "stream",
     "text": [
      "('October 2006\\n'\n",
      " '\\n'\n",
      " '(This essay is derived from a talk at MIT.)\\n'\n",
      " '\\n'\n",
      " 'Till recently graduating seniors had two choices: get a job or go to grad '\n",
      " 'school. I think there will increasingly be a third option: to start your own '\n",
      " 'startup. But how common will that be?\\n'\n",
      " '\\n'\n",
      " \"I'm sure the default will always be to get a job, but starting a startup \"\n",
      " 'could well become as popular as grad school. In the late 90s my professor '\n",
      " \"friends used to complain that they couldn't get grad students, because all \"\n",
      " \"the undergrads were going to work for startups. I wouldn't be surprised if \"\n",
      " \"that situation returns, but with one difference: this time they'll be \"\n",
      " \"starting their own instead of going to work for other people's.\\n\"\n",
      " '\\n'\n",
      " 'The most ambitious students will at this point be asking: Why wait till you '\n",
      " \"graduate? Why not start a startup while you're in college? In fact, why go \"\n",
      " 'to college at all? Why not start a startup instead?\\n'\n",
      " '\\n'\n",
      " 'A year and a half ago I gave a talk where I said that the average age of the '\n",
      " 'founders of Yahoo, Google, and Microsoft was 24, and that if grad students '\n",
      " \"could start startups, why not undergrads? I'm glad I phrased that as a \"\n",
      " \"question, because now I can pretend it wasn't merely a rhetorical one. At \"\n",
      " \"the time I couldn't imagine why there should be any lower limit for the age \"\n",
      " 'of startup founders. Graduation is a bureaucratic change, not a biological '\n",
      " 'one. And certainly there are undergrads as competent technically as most '\n",
      " \"grad students. So why shouldn't undergrads be able to start startups as well \"\n",
      " 'as grad students?\\n'\n",
      " '\\n'\n",
      " 'I now realize that something does change at graduation: you lose a huge '\n",
      " \"excuse for failing. Regardless of how complex your life is, you'll find that \"\n",
      " 'everyone else, including your family and friends, will discard all the low '\n",
      " 'bits and regard you as having a single occupation at any given time. If '\n",
      " \"you're in college and have a summer job writing software, you still read as \"\n",
      " \"a student. Whereas if you graduate and get a job programming, you'll be \"\n",
      " 'instantly regarded by everyone as a programmer.\\n'\n",
      " '\\n'\n",
      " \"The problem with starting a startup while you're still in school is that \"\n",
      " \"there's a built-in escape hatch. If you start a startup in the summer \"\n",
      " 'between your junior and senior year, it reads to everyone as a summer job. '\n",
      " 'So if it goes nowhere, big deal; you return to school in the fall with all '\n",
      " 'the other seniors; no one regards you as a failure, because your occupation '\n",
      " \"is student, and you didn't fail at that. Whereas if you start a startup just \"\n",
      " \"one year later, after you graduate, as long as you're not accepted to grad \"\n",
      " \"school in the fall the startup reads to everyone as your occupation. You're \"\n",
      " 'now a startup founder, so you have to do well at that.\\n'\n",
      " '\\n'\n",
      " \"For nearly everyone, the opinion of one's peers is the most powerful \"\n",
      " 'motivator of all—more powerful even than the nominal goal of most startup '\n",
      " 'founders, getting rich. [1] About a month into each funding cycle we have an '\n",
      " 'event called Prototype Day where each startup presents to the others what '\n",
      " \"they've got so far. You might think they wouldn't need any more motivation. \"\n",
      " \"They're working on their cool new idea; they have funding for the immediate \"\n",
      " \"future; and they're playing a game with only two outcomes: wealth or \"\n",
      " \"failure. You'd think that would be motivation enough. And yet the prospect \"\n",
      " 'of a demo pushes most of them into a rush of activity.\\n'\n",
      " '\\n'\n",
      " 'Even if you start a startup explicitly to get rich, the money you might get '\n",
      " 'seems pretty theoretical most of the time. What drives you day to day is not '\n",
      " 'wanting to look bad.\\n'\n",
      " '\\n'\n",
      " \"You probably can't change that. Even if you could, I don't think you'd want \"\n",
      " \"to; someone who really, truly doesn't care what his peers think of him is \"\n",
      " 'probably a psychopath. So the best you can do is consider this force like a '\n",
      " 'wind, and set up your boat accordingly. If you know your peers are going to '\n",
      " 'push you in some direction, choose good peers, and position yourself so they '\n",
      " 'push you in a direction you like.\\n'\n",
      " '\\n'\n",
      " 'Graduation changes the prevailing winds, and those make a difference. '\n",
      " \"Starting a startup is so hard that it's a close call even for the ones that \"\n",
      " 'succeed. However high a startup may be flying now, it probably has a few '\n",
      " 'leaves stuck in the landing gear from those trees it barely cleared at the '\n",
      " 'end of the runway. In such a close game, the smallest increase in the forces '\n",
      " 'against you can be enough to flick you over the edge into failure.\\n'\n",
      " '\\n'\n",
      " 'When we first started Y Combinator we encouraged people to start startups '\n",
      " \"while they were still in college. That's partly because Y Combinator began \"\n",
      " \"as a kind of summer program. We've kept the program shape—all of us having \"\n",
      " \"dinner together once a week turns out to be a good idea—but we've decided \"\n",
      " 'now that the party line should be to tell people to wait till they '\n",
      " 'graduate.\\n'\n",
      " '\\n'\n",
      " \"Does that mean you can't start a startup in college? Not at all. Sam Altman, \"\n",
      " 'the co-founder of Loopt, had just finished his sophomore year when we funded '\n",
      " \"them, and Loopt is probably the most promising of all the startups we've \"\n",
      " 'funded so far. But Sam Altman is a very unusual guy. Within about three '\n",
      " 'minutes of meeting him, I remember thinking \"Ah, so this is what Bill Gates '\n",
      " 'must have been like when he was 19.\"\\n'\n",
      " '\\n'\n",
      " 'If it can work to start a startup during college, why do we tell people not '\n",
      " 'to? For the same reason that the probably apocryphal violinist, whenever he '\n",
      " \"was asked to judge someone's playing, would always say they didn't have \"\n",
      " 'enough talent to make it as a pro. Succeeding as a musician takes '\n",
      " 'determination as well as talent, so this answer works out to be the right '\n",
      " 'advice for everyone. The ones who are uncertain believe it and give up, and '\n",
      " 'the ones who are sufficiently determined think \"screw that, I\\'ll succeed '\n",
      " 'anyway.\"\\n'\n",
      " '\\n'\n",
      " \"So our official policy now is only to fund undergrads we can't talk out of \"\n",
      " \"it. And frankly, if you're not certain, you should wait. It's not as if all \"\n",
      " \"the opportunities to start companies are going to be gone if you don't do it \"\n",
      " \"now. Maybe the window will close on some idea you're working on, but that \"\n",
      " \"won't be the last idea you'll have. For every idea that times out, new ones \"\n",
      " 'become feasible. Historically the opportunities to start startups have only '\n",
      " 'increased with time.\\n'\n",
      " '\\n'\n",
      " 'In that case, you might ask, why not wait longer? Why not go work for a '\n",
      " 'while, or go to grad school, and then start a startup? And indeed, that '\n",
      " 'might be a good idea. If I had to pick the sweet spot for startup founders, '\n",
      " \"based on who we're most excited to see applications from, I'd say it's \"\n",
      " 'probably the mid-twenties. Why? What advantages does someone in their '\n",
      " \"mid-twenties have over someone who's 21? And why isn't it older? What can 25 \"\n",
      " \"year olds do that 32 year olds can't? Those turn out to be questions worth \"\n",
      " 'examining.\\n'\n",
      " '\\n'\n",
      " 'Plus\\n'\n",
      " '\\n'\n",
      " \"If you start a startup soon after college, you'll be a young founder by \"\n",
      " 'present standards, so you should know what the relative advantages of young '\n",
      " \"founders are. They're not what you might think. As a young founder your \"\n",
      " 'strengths are: stamina, poverty, rootlessness, colleagues, and ignorance.\\n'\n",
      " '\\n'\n",
      " \"The importance of stamina shouldn't be surprising. If you've heard anything \"\n",
      " \"about startups you've probably heard about the long hours. As far as I can \"\n",
      " \"tell these are universal. I can't think of any successful startups whose \"\n",
      " \"founders worked 9 to 5. And it's particularly necessary for younger founders \"\n",
      " \"to work long hours because they're probably not as efficient as they'll be \"\n",
      " 'later.\\n'\n",
      " '\\n'\n",
      " 'Your second advantage, poverty, might not sound like an advantage, but it is '\n",
      " 'a huge one. Poverty implies you can live cheaply, and this is critically '\n",
      " 'important for startups. Nearly every startup that fails, fails by running '\n",
      " \"out of money. It's a little misleading to put it this way, because there's \"\n",
      " 'usually some other underlying cause. But regardless of the source of your '\n",
      " 'problems, a low burn rate gives you more opportunity to recover from them. '\n",
      " 'And since most startups make all kinds of mistakes at first, room to recover '\n",
      " 'from mistakes is a valuable thing to have.\\n'\n",
      " '\\n'\n",
      " 'Most startups end up doing something different than they planned. The way '\n",
      " 'the successful ones find something that works is by trying things that '\n",
      " \"don't. So the worst thing you can do in a startup is to have a rigid, \"\n",
      " 'pre-ordained plan and then start spending a lot of money to implement it. '\n",
      " 'Better to operate cheaply and give your ideas time to evolve.\\n'\n",
      " '\\n'\n",
      " 'Recent grads can live on practically nothing, and this gives you an edge '\n",
      " 'over older founders, because the main cost in software startups is people. '\n",
      " 'The guys with kids and mortgages are at a real disadvantage. This is one '\n",
      " \"reason I'd bet on the 25 year old over the 32 year old. The 32 year old \"\n",
      " 'probably is a better programmer, but probably also has a much more expensive '\n",
      " 'life. Whereas a 25 year old has some work experience (more on that later) '\n",
      " 'but can live as cheaply as an undergrad.\\n'\n",
      " '\\n'\n",
      " 'Robert Morris and I were 29 and 30 respectively when we started Viaweb, but '\n",
      " 'fortunately we still lived like 23 year olds. We both had roughly zero '\n",
      " 'assets. I would have loved to have a mortgage, since that would have meant I '\n",
      " 'had a house. But in retrospect having nothing turned out to be convenient. I '\n",
      " \"wasn't tied down and I was used to living cheaply.\\n\"\n",
      " '\\n'\n",
      " 'Even more important than living cheaply, though, is thinking cheaply. One '\n",
      " 'reason the Apple II was so popular was that it was cheap. The computer '\n",
      " 'itself was cheap, and it used cheap, off-the-shelf peripherals like a '\n",
      " 'cassette tape recorder for data storage and a TV as a monitor. And you know '\n",
      " \"why? Because Woz designed this computer for himself, and he couldn't afford \"\n",
      " 'anything more.\\n'\n",
      " '\\n'\n",
      " 'We benefitted from the same phenomenon. Our prices were daringly low for the '\n",
      " 'time. The top level of service was $300 a month, which was an order of '\n",
      " \"magnitude below the norm. In retrospect this was a smart move, but we didn't \"\n",
      " 'do it because we were smart. $300 a month seemed like a lot of money to us. '\n",
      " 'Like Apple, we created something inexpensive, and therefore popular, simply '\n",
      " 'because we were poor.\\n'\n",
      " '\\n'\n",
      " 'A lot of startups have that form: someone comes along and makes something '\n",
      " 'for a tenth or a hundredth of what it used to cost, and the existing players '\n",
      " \"can't follow because they don't even want to think about a world in which \"\n",
      " \"that's possible. Traditional long distance carriers, for example, didn't \"\n",
      " 'even want to think about VoIP. (It was coming, all the same.) Being poor '\n",
      " 'helps in this game, because your own personal bias points in the same '\n",
      " 'direction technology evolves in.\\n'\n",
      " '\\n'\n",
      " \"The advantages of rootlessness are similar to those of poverty. When you're \"\n",
      " \"young you're more mobile—not just because you don't have a house or much \"\n",
      " \"stuff, but also because you're less likely to have serious relationships. \"\n",
      " 'This turns out to be important, because a lot of startups involve someone '\n",
      " 'moving.\\n'\n",
      " '\\n'\n",
      " 'The founders of Kiko, for example, are now en route to the Bay Area to start '\n",
      " \"their next startup. It's a better place for what they want to do. And it was \"\n",
      " 'easy for them to decide to go, because neither as far as I know has a '\n",
      " 'serious girlfriend, and everything they own will fit in one car—or more '\n",
      " \"precisely, will either fit in one car or is crappy enough that they don't \"\n",
      " 'mind leaving it behind.\\n'\n",
      " '\\n'\n",
      " \"They at least were in Boston. What if they'd been in Nebraska, like Evan \"\n",
      " 'Williams was at their age? Someone wrote recently that the drawback of Y '\n",
      " \"Combinator was that you had to move to participate. It couldn't be any other \"\n",
      " 'way. The kind of conversations we have with founders, we have to have in '\n",
      " \"person. We fund a dozen startups at a time, and we can't be in a dozen \"\n",
      " 'places at once. But even if we could somehow magically save people from '\n",
      " \"moving, we wouldn't. We wouldn't be doing founders a favor by letting them \"\n",
      " \"stay in Nebraska. Places that aren't startup hubs are toxic to startups. You \"\n",
      " 'can tell that from indirect evidence. You can tell how hard it must be to '\n",
      " 'start a startup in Houston or Chicago or Miami from the microscopically '\n",
      " \"small number, per capita, that succeed there. I don't know exactly what's \"\n",
      " 'suppressing all the startups in these towns—probably a hundred subtle little '\n",
      " 'things—but something must be. [2]\\n'\n",
      " '\\n'\n",
      " 'Maybe this will change. Maybe the increasing cheapness of startups will mean '\n",
      " \"they'll be able to survive anywhere, instead of only in the most hospitable \"\n",
      " 'environments. Maybe 37signals is the pattern for the future. But maybe not. '\n",
      " 'Historically there have always been certain towns that were centers for '\n",
      " \"certain industries, and if you weren't in one of them you were at a \"\n",
      " \"disadvantage. So my guess is that 37signals is an anomaly. We're looking at \"\n",
      " 'a pattern much older than \"Web 2.0\" here.\\n'\n",
      " '\\n'\n",
      " 'Perhaps the reason more startups per capita happen in the Bay Area than '\n",
      " 'Miami is simply that there are more founder-type people there. Successful '\n",
      " 'startups are almost never started by one person. Usually they begin with a '\n",
      " 'conversation in which someone mentions that something would be a good idea '\n",
      " 'for a company, and his friend says, \"Yeah, that is a good idea, let\\'s try '\n",
      " 'it.\" If you\\'re missing that second person who says \"let\\'s try it,\" the '\n",
      " 'startup never happens. And that is another area where undergrads have an '\n",
      " \"edge. They're surrounded by people willing to say that. At a good college \"\n",
      " \"you're concentrated together with a lot of other ambitious and technically \"\n",
      " \"minded people—probably more concentrated than you'll ever be again. If your \"\n",
      " \"nucleus spits out a neutron, there's a good chance it will hit another \"\n",
      " 'nucleus.\\n'\n",
      " '\\n'\n",
      " 'The number one question people ask us at Y Combinator is: Where can I find a '\n",
      " \"co-founder? That's the biggest problem for someone starting a startup at 30. \"\n",
      " 'When they were in school they knew a lot of good co-founders, but by 30 '\n",
      " \"they've either lost touch with them or these people are tied down by jobs \"\n",
      " \"they don't want to leave.\\n\"\n",
      " '\\n'\n",
      " 'Viaweb was an anomaly in this respect too. Though we were comparatively old, '\n",
      " \"we weren't tied down by impressive jobs. I was trying to be an artist, which \"\n",
      " 'is not very constraining, and Robert, though 29, was still in grad school '\n",
      " 'due to a little interruption in his academic career back in 1988. So '\n",
      " 'arguably the Worm made Viaweb possible. Otherwise Robert would have been a '\n",
      " \"junior professor at that age, and he wouldn't have had time to work on crazy \"\n",
      " 'speculative projects with me.\\n'\n",
      " '\\n'\n",
      " 'Most of the questions people ask Y Combinator we have some kind of answer '\n",
      " 'for, but not the co-founder question. There is no good answer. Co-founders '\n",
      " 'really should be people you already know. And by far the best place to meet '\n",
      " 'them is school. You have a large sample of smart people; you get to compare '\n",
      " \"how they all perform on identical tasks; and everyone's life is pretty \"\n",
      " 'fluid. A lot of startups grow out of schools for this reason. Google, Yahoo, '\n",
      " 'and Microsoft, among others, were all founded by people who met in school. '\n",
      " \"(In Microsoft's case, it was high school.)\\n\"\n",
      " '\\n'\n",
      " 'Many students feel they should wait and get a little more experience before '\n",
      " 'they start a company. All other things being equal, they should. But all '\n",
      " \"other things are not quite as equal as they look. Most students don't \"\n",
      " 'realize how rich they are in the scarcest ingredient in startups, '\n",
      " 'co-founders. If you wait too long, you may find that your friends are now '\n",
      " \"involved in some project they don't want to abandon. The better they are, \"\n",
      " 'the more likely this is to happen.\\n'\n",
      " '\\n'\n",
      " 'One way to mitigate this problem might be to actively plan your startup '\n",
      " \"while you're getting those n years of experience. Sure, go off and get jobs \"\n",
      " 'or go to grad school or whatever, but get together regularly to scheme, so '\n",
      " \"the idea of starting a startup stays alive in everyone's brain. I don't know \"\n",
      " \"if this works, but it can't hurt to try.\\n\"\n",
      " '\\n'\n",
      " 'It would be helpful just to realize what an advantage you have as students. '\n",
      " 'Some of your classmates are probably going to be successful startup '\n",
      " 'founders; at a great technical university, that is a near certainty. So '\n",
      " \"which ones? If I were you I'd look for the people who are not just smart, \"\n",
      " 'but incurable builders. Look for the people who keep starting projects, and '\n",
      " \"finish at least some of them. That's what we look for. Above all else, above \"\n",
      " 'academic credentials and even the idea you apply with, we look for people '\n",
      " 'who build things.\\n'\n",
      " '\\n'\n",
      " 'The other place co-founders meet is at work. Fewer do than at school, but '\n",
      " 'there are things you can do to improve the odds. The most important, '\n",
      " 'obviously, is to work somewhere that has a lot of smart, young people. '\n",
      " 'Another is to work for a company located in a startup hub. It will be easier '\n",
      " 'to talk a co-worker into quitting with you in a place where startups are '\n",
      " 'happening all around you.\\n'\n",
      " '\\n'\n",
      " 'You might also want to look at the employment agreement you sign when you '\n",
      " \"get hired. Most will say that any ideas you think of while you're employed \"\n",
      " \"by the company belong to them. In practice it's hard for anyone to prove \"\n",
      " \"what ideas you had when, so the line gets drawn at code. If you're going to \"\n",
      " \"start a startup, don't write any of the code while you're still employed. Or \"\n",
      " 'at least discard any code you wrote while still employed and start over. '\n",
      " \"It's not so much that your employer will find out and sue you. It won't come \"\n",
      " \"to that; investors or acquirers or (if you're so lucky) underwriters will \"\n",
      " 'nail you first. Between t = 0 and when you buy that yacht, someone is going '\n",
      " 'to ask if any of your code legally belongs to anyone else, and you need to '\n",
      " 'be able to say no. [3]\\n'\n",
      " '\\n'\n",
      " \"The most overreaching employee agreement I've seen so far is Amazon's. In \"\n",
      " \"addition to the usual clauses about owning your ideas, you also can't be a \"\n",
      " 'founder of a startup that has another founder who worked at Amazon—even if '\n",
      " \"you didn't know them or even work there at the same time. I suspect they'd \"\n",
      " \"have a hard time enforcing this, but it's a bad sign they even try. There \"\n",
      " 'are plenty of other places to work; you may as well choose one that keeps '\n",
      " 'more of your options open.\\n'\n",
      " '\\n'\n",
      " 'Speaking of cool places to work, there is of course Google. But I notice '\n",
      " 'something slightly frightening about Google: zero startups come out of '\n",
      " \"there. In that respect it's a black hole. People seem to like working at \"\n",
      " 'Google too much to leave. So if you hope to start a startup one day, the '\n",
      " \"evidence so far suggests you shouldn't work there.\\n\"\n",
      " '\\n'\n",
      " 'I realize this seems odd advice. If they make your life so good that you '\n",
      " \"don't want to leave, why not work there? Because, in effect, you're probably \"\n",
      " 'getting a local maximum. You need a certain activation energy to start a '\n",
      " \"startup. So an employer who's fairly pleasant to work for can lull you into \"\n",
      " 'staying indefinitely, even if it would be a net win for you to leave. [4]\\n'\n",
      " '\\n'\n",
      " 'The best place to work, if you want to start a startup, is probably a '\n",
      " 'startup. In addition to being the right sort of experience, one way or '\n",
      " \"another it will be over quickly. You'll either end up rich, in which case \"\n",
      " 'problem solved, or the startup will get bought, in which case it it will '\n",
      " 'start to suck to work there and it will be easy to leave, or most likely, '\n",
      " \"the thing will blow up and you'll be free again.\\n\"\n",
      " '\\n'\n",
      " 'Your final advantage, ignorance, may not sound very useful. I deliberately '\n",
      " 'used a controversial word for it; you might equally call it innocence. But '\n",
      " 'it seems to be a powerful force. My Y Combinator co-founder Jessica '\n",
      " 'Livingston is just about to publish a book of interviews with startup '\n",
      " 'founders, and I noticed a remarkable pattern in them. One after another said '\n",
      " \"that if they'd known how hard it would be, they would have been too \"\n",
      " 'intimidated to start.\\n'\n",
      " '\\n'\n",
      " \"Ignorance can be useful when it's a counterweight to other forms of \"\n",
      " \"stupidity. It's useful in starting startups because you're capable of more \"\n",
      " \"than you realize. Starting startups is harder than you expect, but you're \"\n",
      " 'also capable of more than you expect, so they balance out.\\n'\n",
      " '\\n'\n",
      " 'Most people look at a company like Apple and think, how could I ever make '\n",
      " \"such a thing? Apple is an institution, and I'm just a person. But every \"\n",
      " 'institution was at one point just a handful of people in a room deciding to '\n",
      " 'start something. Institutions are made up, and made up by people no '\n",
      " 'different from you.\\n'\n",
      " '\\n'\n",
      " \"I'm not saying everyone could start a startup. I'm sure most people \"\n",
      " \"couldn't; I don't know much about the population at large. When you get to \"\n",
      " 'groups I know well, like hackers, I can say more precisely. At the top '\n",
      " \"schools, I'd guess as many as a quarter of the CS majors could make it as \"\n",
      " 'startup founders if they wanted.\\n'\n",
      " '\\n'\n",
      " 'That \"if they wanted\" is an important qualification—so important that it\\'s '\n",
      " 'almost cheating to append it like that—because once you get over a certain '\n",
      " 'threshold of intelligence, which most CS majors at top schools are past, the '\n",
      " 'deciding factor in whether you succeed as a founder is how much you want to. '\n",
      " \"You don't have to be that smart. If you're not a genius, just start a \"\n",
      " \"startup in some unsexy field where you'll have less competition, like \"\n",
      " 'software for human resources departments. I picked that example at random, '\n",
      " \"but I feel safe in predicting that whatever they have now, it wouldn't take \"\n",
      " 'genius to do better. There are a lot of people out there working on boring '\n",
      " 'stuff who are desperately in need of better software, so however short you '\n",
      " 'think you fall of Larry and Sergey, you can ratchet down the coolness of the '\n",
      " 'idea far enough to compensate.\\n'\n",
      " '\\n'\n",
      " 'As well as preventing you from being intimidated, ignorance can sometimes '\n",
      " 'help you discover new ideas. Steve Wozniak put this very strongly:\\n'\n",
      " '\\n'\n",
      " 'All the best things that I did at Apple came from (a) not having money and '\n",
      " '(b) not having done it before, ever. Every single thing that we came out '\n",
      " \"with that was really great, I'd never once done that thing in my life.\\n\"\n",
      " 'When you know nothing, you have to reinvent stuff for yourself, and if '\n",
      " \"you're smart your reinventions may be better than what preceded them. This \"\n",
      " 'is especially true in fields where the rules change. All our ideas about '\n",
      " 'software were developed in a time when processors were slow, and memories '\n",
      " 'and disks were tiny. Who knows what obsolete assumptions are embedded in the '\n",
      " 'conventional wisdom? And the way these assumptions are going to get fixed is '\n",
      " 'not by explicitly deallocating them, but by something more akin to garbage '\n",
      " 'collection. Someone ignorant but smart will come along and reinvent '\n",
      " 'everything, and in the process simply fail to reproduce certain existing '\n",
      " 'ideas.\\n'\n",
      " '\\n'\n",
      " 'Minus\\n'\n",
      " '\\n'\n",
      " 'So much for the advantages of young founders. What about the disadvantages? '\n",
      " \"I'm going to start with what goes wrong and try to trace it back to the root \"\n",
      " 'causes.\\n'\n",
      " '\\n'\n",
      " 'What goes wrong with young founders is that they build stuff that looks like '\n",
      " 'class projects. It was only recently that we figured this out ourselves. We '\n",
      " 'noticed a lot of similarities between the startups that seemed to be falling '\n",
      " \"behind, but we couldn't figure out how to put it into words. Then finally we \"\n",
      " 'realized what it was: they were building class projects.\\n'\n",
      " '\\n'\n",
      " \"But what does that really mean? What's wrong with class projects? What's the \"\n",
      " 'difference between a class project and a real startup? If we could answer '\n",
      " 'that question it would be useful not just to would-be startup founders but '\n",
      " \"to students in general, because we'd be a long way toward explaining the \"\n",
      " 'mystery of the so-called real world.\\n'\n",
      " '\\n'\n",
      " 'There seem to be two big things missing in class projects: (1) an iterative '\n",
      " 'definition of a real problem and (2) intensity.\\n'\n",
      " '\\n'\n",
      " 'The first is probably unavoidable. Class projects will inevitably solve fake '\n",
      " 'problems. For one thing, real problems are rare and valuable. If a professor '\n",
      " \"wanted to have students solve real problems, he'd face the same paradox as \"\n",
      " 'someone trying to give an example of whatever \"paradigm\" might succeed the '\n",
      " 'Standard Model of physics. There may well be something that does, but if you '\n",
      " \"could think of an example you'd be entitled to the Nobel Prize. Similarly, \"\n",
      " 'good new problems are not to be had for the asking.\\n'\n",
      " '\\n'\n",
      " 'In technology the difficulty is compounded by the fact that real startups '\n",
      " \"tend to discover the problem they're solving by a process of evolution. \"\n",
      " 'Someone has an idea for something; they build it; and in doing so (and '\n",
      " 'probably only by doing so) they realize the problem they should be solving '\n",
      " 'is another one. Even if the professor let you change your project '\n",
      " \"description on the fly, there isn't time enough to do that in a college \"\n",
      " 'class, or a market to supply evolutionary pressures. So class projects are '\n",
      " 'mostly about implementation, which is the least of your problems in a '\n",
      " 'startup.\\n'\n",
      " '\\n'\n",
      " \"It's not just that in a startup you work on the idea as well as \"\n",
      " 'implementation. The very implementation is different. Its main purpose is to '\n",
      " 'refine the idea. Often the only value of most of the stuff you build in the '\n",
      " 'first six months is that it proves your initial idea was mistaken. And '\n",
      " \"that's extremely valuable. If you're free of a misconception that everyone \"\n",
      " \"else still shares, you're in a powerful position. But you're not thinking \"\n",
      " 'that way about a class project. Proving your initial plan was mistaken would '\n",
      " 'just get you a bad grade. Instead of building stuff to throw away, you tend '\n",
      " 'to want every line of code to go toward that final goal of showing you did a '\n",
      " 'lot of work.\\n'\n",
      " '\\n'\n",
      " 'That leads to our second difference: the way class projects are measured. '\n",
      " 'Professors will tend to judge you by the distance between the starting point '\n",
      " 'and where you are now. If someone has achieved a lot, they should get a good '\n",
      " 'grade. But customers will judge you from the other direction: the distance '\n",
      " 'remaining between where you are now and the features they need. The market '\n",
      " \"doesn't give a shit how hard you worked. Users just want your software to do \"\n",
      " 'what they need, and you get a zero otherwise. That is one of the most '\n",
      " 'distinctive differences between school and the real world: there is no '\n",
      " 'reward for putting in a good effort. In fact, the whole concept of a \"good '\n",
      " 'effort\" is a fake idea adults invented to encourage kids. It is not found in '\n",
      " 'nature.\\n'\n",
      " '\\n'\n",
      " 'Such lies seem to be helpful to kids. But unfortunately when you graduate '\n",
      " \"they don't give you a list of all the lies they told you during your \"\n",
      " 'education. You have to get them beaten out of you by contact with the real '\n",
      " \"world. And this is why so many jobs want work experience. I couldn't \"\n",
      " 'understand that when I was in college. I knew how to program. In fact, I '\n",
      " 'could tell I knew how to program better than most people doing it for a '\n",
      " 'living. So what was this mysterious \"work experience\" and why did I need '\n",
      " 'it?\\n'\n",
      " '\\n'\n",
      " 'Now I know what it is, and part of the confusion is grammatical. Describing '\n",
      " 'it as \"work experience\" implies it\\'s like experience operating a certain '\n",
      " 'kind of machine, or using a certain programming language. But really what '\n",
      " 'work experience refers to is not some specific expertise, but the '\n",
      " 'elimination of certain habits left over from childhood.\\n'\n",
      " '\\n'\n",
      " \"One of the defining qualities of kids is that they flake. When you're a kid \"\n",
      " 'and you face some hard test, you can cry and say \"I can\\'t\" and they won\\'t '\n",
      " 'make you do it. Of course, no one can make you do anything in the grownup '\n",
      " 'world either. What they do instead is fire you. And when motivated by that '\n",
      " 'you find you can do a lot more than you realized. So one of the things '\n",
      " 'employers expect from someone with \"work experience\" is the elimination of '\n",
      " 'the flake reflex—the ability to get things done, with no excuses.\\n'\n",
      " '\\n'\n",
      " 'The other thing you get from work experience is an understanding of what '\n",
      " 'work is, and in particular, how intrinsically horrible it is. Fundamentally '\n",
      " 'the equation is a brutal one: you have to spend most of your waking hours '\n",
      " 'doing stuff someone else wants, or starve. There are a few places where the '\n",
      " 'work is so interesting that this is concealed, because what other people '\n",
      " 'want done happens to coincide with what you want to work on. But you only '\n",
      " 'have to imagine what would happen if they diverged to see the underlying '\n",
      " 'reality.\\n'\n",
      " '\\n'\n",
      " \"It's not so much that adults lie to kids about this as never explain it. \"\n",
      " 'They never explain what the deal is with money. You know from an early age '\n",
      " \"that you'll have some sort of job, because everyone asks what you're going \"\n",
      " 'to \"be\" when you grow up. What they don\\'t tell you is that as a kid you\\'re '\n",
      " \"sitting on the shoulders of someone else who's treading water, and that \"\n",
      " 'starting working means you get thrown into the water on your own, and have '\n",
      " 'to start treading water yourself or sink. \"Being\" something is incidental; '\n",
      " 'the immediate problem is not to drown.\\n'\n",
      " '\\n'\n",
      " 'The relationship between work and money tends to dawn on you only gradually. '\n",
      " 'At least it did for me. One\\'s first thought tends to be simply \"This sucks. '\n",
      " 'I\\'m in debt. Plus I have to get up on monday and go to work.\" Gradually you '\n",
      " 'realize that these two things are as tightly connected as only a market can '\n",
      " 'make them.\\n'\n",
      " '\\n'\n",
      " 'So the most important advantage 24 year old founders have over 20 year old '\n",
      " \"founders is that they know what they're trying to avoid. To the average \"\n",
      " 'undergrad the idea of getting rich translates into buying Ferraris, or being '\n",
      " 'admired. To someone who has learned from experience about the relationship '\n",
      " 'between money and work, it translates to something way more important: it '\n",
      " 'means you get to opt out of the brutal equation that governs the lives of '\n",
      " '99.9% of people. Getting rich means you can stop treading water.\\n'\n",
      " '\\n'\n",
      " 'Someone who gets this will work much harder at making a startup succeed—with '\n",
      " 'the proverbial energy of a drowning man, in fact. But understanding the '\n",
      " \"relationship between money and work also changes the way you work. You don't \"\n",
      " 'get money just for working, but for doing things other people want. Someone '\n",
      " \"who's figured that out will automatically focus more on the user. And that \"\n",
      " \"cures the other half of the class-project syndrome. After you've been \"\n",
      " \"working for a while, you yourself tend to measure what you've done the same \"\n",
      " 'way the market does.\\n'\n",
      " '\\n'\n",
      " \"Of course, you don't have to spend years working to learn this stuff. If \"\n",
      " \"you're sufficiently perceptive you can grasp these things while you're still \"\n",
      " 'in school. Sam Altman did. He must have, because Loopt is no class project. '\n",
      " 'And as his example suggests, this can be valuable knowledge. At a minimum, '\n",
      " 'if you get this stuff, you already have most of what you gain from the \"work '\n",
      " 'experience\" employers consider so desirable. But of course if you really get '\n",
      " \"it, you can use this information in a way that's more valuable to you than \"\n",
      " 'that.\\n'\n",
      " '\\n'\n",
      " 'Now\\n'\n",
      " '\\n'\n",
      " 'So suppose you think you might start a startup at some point, either when '\n",
      " 'you graduate or a few years after. What should you do now? For both jobs and '\n",
      " \"grad school, there are ways to prepare while you're in college. If you want \"\n",
      " \"to get a job when you graduate, you should get summer jobs at places you'd \"\n",
      " 'like to work. If you want to go to grad school, it will help to work on '\n",
      " \"research projects as an undergrad. What's the equivalent for startups? How \"\n",
      " 'do you keep your options maximally open?\\n'\n",
      " '\\n'\n",
      " \"One thing you can do while you're still in school is to learn how startups \"\n",
      " \"work. Unfortunately that's not easy. Few if any colleges have classes about \"\n",
      " 'startups. There may be business school classes on entrepreneurship, as they '\n",
      " 'call it over there, but these are likely to be a waste of time. Business '\n",
      " \"schools like to talk about startups, but philosophically they're at the \"\n",
      " 'opposite end of the spectrum. Most books on startups also seem to be '\n",
      " \"useless. I've looked at a few and none get it right. Books in most fields \"\n",
      " 'are written by people who know the subject from experience, but for startups '\n",
      " \"there's a unique problem: by definition the founders of successful startups \"\n",
      " \"don't need to write books to make money. As a result most books on the \"\n",
      " \"subject end up being written by people who don't understand it.\\n\"\n",
      " '\\n'\n",
      " \"So I'd be skeptical of classes and books. The way to learn about startups is \"\n",
      " 'by watching them in action, preferably by working at one. How do you do that '\n",
      " 'as an undergrad? Probably by sneaking in through the back door. Just hang '\n",
      " 'around a lot and gradually start doing things for them. Most startups are '\n",
      " '(or should be) very cautious about hiring. Every hire increases the burn '\n",
      " 'rate, and bad hires early on are hard to recover from. However, startups '\n",
      " \"usually have a fairly informal atmosphere, and there's always a lot that \"\n",
      " 'needs to be done. If you just start doing stuff for them, many will be too '\n",
      " 'busy to shoo you away. You can thus gradually work your way into their '\n",
      " 'confidence, and maybe turn it into an official job later, or not, whichever '\n",
      " \"you prefer. This won't work for all startups, but it would work for most \"\n",
      " \"I've known.\\n\"\n",
      " '\\n'\n",
      " 'Number two, make the most of the great advantage of school: the wealth of '\n",
      " \"co-founders. Look at the people around you and ask yourself which you'd like \"\n",
      " 'to work with. When you apply that test, you may find you get surprising '\n",
      " \"results. You may find you'd prefer the quiet guy you've mostly ignored to \"\n",
      " \"someone who seems impressive but has an attitude to match. I'm not \"\n",
      " \"suggesting you suck up to people you don't really like because you think one \"\n",
      " \"day they'll be successful. Exactly the opposite, in fact: you should only \"\n",
      " 'start a startup with someone you like, because a startup will put your '\n",
      " \"friendship through a stress test. I'm just saying you should think about who \"\n",
      " 'you really admire and hang out with them, instead of whoever circumstances '\n",
      " 'throw you together with.\\n'\n",
      " '\\n'\n",
      " 'Another thing you can do is learn skills that will be useful to you in a '\n",
      " \"startup. These may be different from the skills you'd learn to get a job. \"\n",
      " 'For example, thinking about getting a job will make you want to learn '\n",
      " 'programming languages you think employers want, like Java and C++. Whereas '\n",
      " 'if you start a startup, you get to pick the language, so you have to think '\n",
      " 'about which will actually let you get the most done. If you use that test '\n",
      " 'you might end up learning Ruby or Python instead.\\n'\n",
      " '\\n'\n",
      " \"But the most important skill for a startup founder isn't a programming \"\n",
      " \"technique. It's a knack for understanding users and figuring out how to give \"\n",
      " \"them what they want. I know I repeat this, but that's because it's so \"\n",
      " \"important. And it's a skill you can learn, though perhaps habit might be a \"\n",
      " 'better word. Get into the habit of thinking of software as having users. '\n",
      " 'What do those users want? What would make them say wow?\\n'\n",
      " '\\n'\n",
      " 'This is particularly valuable for undergrads, because the concept of users '\n",
      " 'is missing from most college programming classes. The way you get taught '\n",
      " 'programming in college would be like teaching writing as grammar, without '\n",
      " 'mentioning that its purpose is to communicate something to an audience. '\n",
      " 'Fortunately an audience for software is now only an http request away. So in '\n",
      " 'addition to the programming you do for your classes, why not build some kind '\n",
      " 'of website people will find useful? At the very least it will teach you how '\n",
      " 'to write software with users. In the best case, it might not just be '\n",
      " 'preparation for a startup, but the startup itself, like it was for Yahoo and '\n",
      " 'Google.\\n'\n",
      " '\\n'\n",
      " '\\n'\n",
      " '\\n'\n",
      " 'Notes\\n'\n",
      " '\\n'\n",
      " \"[1] Even the desire to protect one's children seems weaker, judging from \"\n",
      " 'things people have historically done to their kids rather than risk their '\n",
      " \"community's disapproval. (I assume we still do things that will be regarded \"\n",
      " 'in the future as barbaric, but historical abuses are easier for us to see.)\\n'\n",
      " '\\n'\n",
      " '[2] Worrying that Y Combinator makes founders move for 3 months also '\n",
      " \"suggests one underestimates how hard it is to start a startup. You're going \"\n",
      " 'to have to put up with much greater inconveniences than that.\\n'\n",
      " '\\n'\n",
      " \"[3] Most employee agreements say that any idea relating to the company's \"\n",
      " 'present or potential future business belongs to them. Often as not the '\n",
      " 'second clause could include any possible startup, and anyone doing due '\n",
      " 'diligence for an investor or acquirer will assume the worst.\\n'\n",
      " '\\n'\n",
      " \"To be safe either (a) don't use code written while you were still employed \"\n",
      " 'in your previous job, or (b) get your employer to renounce, in writing, any '\n",
      " 'claim to the code you write for your side project. Many will consent to (b) '\n",
      " \"rather than lose a prized employee. The downside is that you'll have to tell \"\n",
      " 'them exactly what your project does.\\n'\n",
      " '\\n'\n",
      " '[4] Geshke and Warnock only founded Adobe because Xerox ignored them. If '\n",
      " 'Xerox had used what they built, they would probably never have left PARC.\\n'\n",
      " '\\n'\n",
      " 'Thanks to Jessica Livingston and Robert Morris for reading drafts of this, '\n",
      " 'and to Jeff Arnold and the SIPB for inviting me to speak.')\n"
     ]
    }
   ],
   "source": [
    "from pprint import pprint\n",
    "with open(\"./data/mit.txt\") as file:\n",
    "    essay = file.read()\n",
    "\n",
    "pprint(essay)"
   ]
  },
  {
   "cell_type": "code",
   "execution_count": null,
   "metadata": {},
   "outputs": [],
   "source": [
    "pip install sentence_transformers"
   ]
  },
  {
   "cell_type": "code",
   "execution_count": 25,
   "metadata": {},
   "outputs": [
    {
     "name": "stderr",
     "output_type": "stream",
     "text": [
      "/opt/homebrew/anaconda3/envs/actividad_1/lib/python3.11/site-packages/tqdm/auto.py:21: TqdmWarning: IProgress not found. Please update jupyter and ipywidgets. See https://ipywidgets.readthedocs.io/en/stable/user_install.html\n",
      "  from .autonotebook import tqdm as notebook_tqdm\n"
     ]
    },
    {
     "name": "stdout",
     "output_type": "stream",
     "text": [
      "(2, 384)\n"
     ]
    }
   ],
   "source": [
    "from sentence_transformers import SentenceTransformer\n",
    "\n",
    "model = SentenceTransformer('all-MiniLM-L6-v2')\n",
    "sentences = ['This is an example sentence', 'Each sentence is converted']\n",
    "\n",
    "embeddings = model.encode(sentences)\n",
    "print(embeddings.shape)"
   ]
  },
  {
   "cell_type": "code",
   "execution_count": 28,
   "metadata": {},
   "outputs": [
    {
     "name": "stderr",
     "output_type": "stream",
     "text": [
      "huggingface/tokenizers: The current process just got forked, after parallelism has already been used. Disabling parallelism to avoid deadlocks...\n",
      "To disable this warning, you can either:\n",
      "\t- Avoid using `tokenizers` before the fork if possible\n",
      "\t- Explicitly set the environment variable TOKENIZERS_PARALLELISM=(true | false)\n"
     ]
    },
    {
     "name": "stdout",
     "output_type": "stream",
     "text": [
      "\u001b[31mERROR: Could not find a version that satisfies the requirement chunking.document_splitter (from versions: none)\u001b[0m\u001b[31m\n",
      "\u001b[0m\u001b[31mERROR: No matching distribution found for chunking.document_splitter\u001b[0m\u001b[31m\n",
      "\u001b[0mNote: you may need to restart the kernel to use updated packages.\n"
     ]
    }
   ],
   "source": [
    "pip install chunking.document_splitter"
   ]
  },
  {
   "cell_type": "code",
   "execution_count": 29,
   "metadata": {},
   "outputs": [
    {
     "ename": "ModuleNotFoundError",
     "evalue": "No module named 'chunking.document_splitter'",
     "output_type": "error",
     "traceback": [
      "\u001b[0;31m---------------------------------------------------------------------------\u001b[0m",
      "\u001b[0;31mModuleNotFoundError\u001b[0m                       Traceback (most recent call last)",
      "Cell \u001b[0;32mIn[29], line 8\u001b[0m\n\u001b[1;32m      5\u001b[0m sys\u001b[38;5;241m.\u001b[39mpath\u001b[38;5;241m.\u001b[39mappend(os\u001b[38;5;241m.\u001b[39mpath\u001b[38;5;241m.\u001b[39mabspath(os\u001b[38;5;241m.\u001b[39mpath\u001b[38;5;241m.\u001b[39mjoin(\u001b[38;5;124m'\u001b[39m\u001b[38;5;124m..\u001b[39m\u001b[38;5;124m'\u001b[39m, \u001b[38;5;124m'\u001b[39m\u001b[38;5;124msrc\u001b[39m\u001b[38;5;124m'\u001b[39m)))\n\u001b[1;32m      7\u001b[0m \u001b[38;5;66;03m# Now import the DocumentSplitter class\u001b[39;00m\n\u001b[0;32m----> 8\u001b[0m \u001b[38;5;28;01mfrom\u001b[39;00m \u001b[38;5;21;01mchunking\u001b[39;00m\u001b[38;5;21;01m.\u001b[39;00m\u001b[38;5;21;01mdocument_splitter\u001b[39;00m \u001b[38;5;28;01mimport\u001b[39;00m SemanticChunker\n\u001b[1;32m     10\u001b[0m splitter \u001b[38;5;241m=\u001b[39m SemanticChunker(document\u001b[38;5;241m=\u001b[39messay)\n",
      "\u001b[0;31mModuleNotFoundError\u001b[0m: No module named 'chunking.document_splitter'"
     ]
    }
   ],
   "source": [
    "import sys\n",
    "import os\n",
    "\n",
    "# Add the src directory to the Python path\n",
    "sys.path.append(os.path.abspath(os.path.join('..', 'src')))\n",
    "\n",
    "# Now import the DocumentSplitter class\n",
    "from chunking.document_splitter import SemanticChunker\n",
    "\n",
    "splitter = SemanticChunker(document=essay)"
   ]
  },
  {
   "cell_type": "code",
   "execution_count": null,
   "metadata": {},
   "outputs": [],
   "source": [
    "chunks = splitter.split_into_chunks(threshold=0.5)"
   ]
  },
  {
   "cell_type": "markdown",
   "metadata": {},
   "source": [
    "Encontrar puntos de quiebre entre oraciones secuenciales - Luego intente un metodo de caminata. Comence en la primera oracion, obtuve el embedding, luego lo compare con la oracion #2, luego compare #2 y #3 y asi sucesivamente. Estaba buscando \"puntos de quiebre\" donde la distancia del embedding era grande. Si estaba por encima de un umbral, entonces lo considere el comienzo de una nueva sección semantica. Originalmente intente tomar embeddings de cada oracion, pero resulto ser demasiado ruidoso. Asi que termine tomando grupos de 3 oraciones (una ventana), luego obtuve un embedding, luego elimine la primera oracion y agregue la siguiente. Esto funciono un poco mejor.\n",
    "\n",
    "Luego, quiero dividir todo el ensayo en chunks de 1 oración. Voy a dividir en \".\" \"?\" y \"!\". Hay mejores formas de hacer esto, pero esto es rápido y fácil por ahora."
   ]
  },
  {
   "cell_type": "code",
   "execution_count": null,
   "metadata": {},
   "outputs": [],
   "source": [
    "import re\n",
    "\n",
    "# Splitting the essay on '.', '?', and '!'\n",
    "single_sentences_list = re.split(r'(?<=[.?!])\\s+', essay)\n",
    "print (f\"{len(single_sentences_list)} sentences were found\")"
   ]
  },
  {
   "cell_type": "markdown",
   "metadata": {},
   "source": [
    "Pero una lista de oraciones puede ser dificil de agregar mas datos. Voy a convertir esto en una lista de diccionarios (List[dict]), de los cuales, las oraciones seran una clave-valor. Luego podemos comenzar a agregar mas datos a cada oracion."
   ]
  },
  {
   "cell_type": "code",
   "execution_count": null,
   "metadata": {},
   "outputs": [],
   "source": [
    "sentences = [{'sentence': x, 'index' : i} for i, x in enumerate(single_sentences_list)]\n",
    "sentences[:3]"
   ]
  },
  {
   "cell_type": "markdown",
   "metadata": {},
   "source": [
    "Esto es lo que tenemos hasta ahora. Ahora, quiero agregar la oracion anterior y la siguiente a cada oracion. Esto nos ayudara a reducir el ruido y capturar mas de las relaciones entre oraciones secuenciales.\n",
    "\n",
    "Cree una función para hacer esto, ya que lo usaremos mas adelante. El tamaño del buffer es configurable para que pueda seleccionar el tamaño de la ventana que desee. Mantenga este número en mente para los pasos posteriores. Solo usaré buffer_size=1 por ahora."
   ]
  },
  {
   "cell_type": "code",
   "execution_count": null,
   "metadata": {},
   "outputs": [],
   "source": [
    "def combine_sentences(sentences, buffer_size=1):\n",
    "    # Go through each sentence dict\n",
    "    for i in range(len(sentences)):\n",
    "\n",
    "        # Create a string that will hold the sentences which are joined\n",
    "        combined_sentence = ''\n",
    "\n",
    "        # Add sentences before the current one, based on the buffer size.\n",
    "        for j in range(i - buffer_size, i):\n",
    "            # Check if the index j is not negative (to avoid index out of range like on the first one)\n",
    "            if j >= 0:\n",
    "                # Add the sentence at index j to the combined_sentence string\n",
    "                combined_sentence += sentences[j]['sentence'] + ' '\n",
    "\n",
    "        # Add the current sentence\n",
    "        combined_sentence += sentences[i]['sentence']\n",
    "\n",
    "        # Add sentences after the current one, based on the buffer size\n",
    "        for j in range(i + 1, i + 1 + buffer_size):\n",
    "            # Check if the index j is within the range of the sentences list\n",
    "            if j < len(sentences):\n",
    "                # Add the sentence at index j to the combined_sentence string\n",
    "                combined_sentence += ' ' + sentences[j]['sentence']\n",
    "\n",
    "        # Then add the whole thing to your dict\n",
    "        # Store the combined sentence in the current sentence dict\n",
    "        sentences[i]['combined_sentence'] = combined_sentence\n",
    "\n",
    "    return sentences\n",
    "\n",
    "sentences = combine_sentences(sentences)"
   ]
  },
  {
   "cell_type": "code",
   "execution_count": null,
   "metadata": {},
   "outputs": [],
   "source": [
    "sentences[:3]"
   ]
  },
  {
   "cell_type": "code",
   "execution_count": null,
   "metadata": {},
   "outputs": [],
   "source": [
    "len(sentences)"
   ]
  },
  {
   "cell_type": "code",
   "execution_count": null,
   "metadata": {},
   "outputs": [],
   "source": [
    "pip install langchain_huggingface"
   ]
  },
  {
   "cell_type": "code",
   "execution_count": null,
   "metadata": {},
   "outputs": [],
   "source": [
    "from langchain_huggingface import HuggingFaceEmbeddings\n",
    "\n",
    "dense_embedding_model = HuggingFaceEmbeddings(model_name=\"sentence-transformers/all-mpnet-base-v2\")"
   ]
  },
  {
   "cell_type": "markdown",
   "metadata": {},
   "source": [
    "Ahora creamos embeddings para cada oracion. Esto puede llevar un tiempo, asi que lo haremos en *batches* para acelerar el proceso."
   ]
  },
  {
   "cell_type": "code",
   "execution_count": null,
   "metadata": {},
   "outputs": [],
   "source": [
    "embeddings = dense_embedding_model.embed_documents([x['combined_sentence'] for x in sentences])"
   ]
  },
  {
   "cell_type": "code",
   "execution_count": null,
   "metadata": {},
   "outputs": [],
   "source": [
    "len(embeddings)"
   ]
  },
  {
   "cell_type": "code",
   "execution_count": null,
   "metadata": {},
   "outputs": [],
   "source": [
    "for i, sentence in enumerate(sentences):\n",
    "    sentence['combined_sentence_embedding'] = embeddings[i]"
   ]
  },
  {
   "cell_type": "code",
   "execution_count": null,
   "metadata": {},
   "outputs": [],
   "source": [
    "type(sentence)"
   ]
  },
  {
   "cell_type": "code",
   "execution_count": null,
   "metadata": {},
   "outputs": [],
   "source": [
    "sentence"
   ]
  },
  {
   "cell_type": "code",
   "execution_count": null,
   "metadata": {},
   "outputs": [],
   "source": [
    "from sklearn.metrics.pairwise import cosine_similarity\n",
    "\n",
    "def calculate_cosine_distances(sentences):\n",
    "    distances = []\n",
    "    for i in range(len(sentences) - 1):\n",
    "        embedding_current = sentences[i]['combined_sentence_embedding']\n",
    "        embedding_next = sentences[i + 1]['combined_sentence_embedding']\n",
    "        \n",
    "        # Calculate cosine similarity\n",
    "        similarity = cosine_similarity([embedding_current], [embedding_next])[0][0]\n",
    "        \n",
    "        # Convert to cosine distance\n",
    "        distance = 1 - similarity\n",
    "\n",
    "        # Append cosine distance to the list\n",
    "        distances.append(distance)\n",
    "\n",
    "        # Store distance in the dictionary\n",
    "        sentences[i]['distance_to_next'] = distance\n",
    "\n",
    "    # Optionally handle the last sentence\n",
    "    # sentences[-1]['distance_to_next'] = None  # or a default value\n",
    "\n",
    "    return distances, sentences"
   ]
  },
  {
   "cell_type": "markdown",
   "metadata": {},
   "source": [
    "Genial, ahora tenemos una lista de oraciones con sus embeddings y distancias. Ahora podemos comenzar a buscar puntos de quiebre.\n",
    "\n",
    "\n"
   ]
  },
  {
   "cell_type": "code",
   "execution_count": null,
   "metadata": {},
   "outputs": [],
   "source": [
    "distances, sentences = calculate_cosine_distances(sentences)"
   ]
  },
  {
   "cell_type": "code",
   "execution_count": null,
   "metadata": {},
   "outputs": [],
   "source": [
    "distances[:3]"
   ]
  },
  {
   "cell_type": "markdown",
   "metadata": {},
   "source": [
    "Hm, yep, just a bunch of numbers that aren't fun to look at. Let's plot them.\n",
    "\n"
   ]
  },
  {
   "cell_type": "code",
   "execution_count": null,
   "metadata": {},
   "outputs": [],
   "source": [
    "import matplotlib.pyplot as plt\n",
    "\n",
    "plt.plot(distances)"
   ]
  },
  {
   "cell_type": "code",
   "execution_count": null,
   "metadata": {},
   "outputs": [],
   "source": [
    "import numpy as np\n",
    "\n",
    "plt.plot(distances)\n",
    "\n",
    "y_upper_bound = .9\n",
    "plt.ylim(0, y_upper_bound)\n",
    "plt.xlim(0, len(distances))\n",
    "\n",
    "# We need to get the distance threshold that we'll consider an outlier\n",
    "# We'll use numpy .percentile() for this\n",
    "breakpoint_percentile_threshold = 95\n",
    "breakpoint_distance_threshold = np.percentile(distances, breakpoint_percentile_threshold) # If you want more chunks, lower the percentile cutoff\n",
    "plt.axhline(y=breakpoint_distance_threshold, color='r', linestyle='-')\n",
    "\n",
    "# Then we'll see how many distances are actually above this one\n",
    "num_distances_above_theshold = len([x for x in distances if x > breakpoint_distance_threshold]) # The amount of distances above your threshold\n",
    "plt.text(x=(len(distances)*.01), y=y_upper_bound/50, s=f\"{num_distances_above_theshold + 1} Chunks\")\n",
    "\n",
    "# Then we'll get the index of the distances that are above the threshold. This will tell us where we should split our text\n",
    "indices_above_thresh = [i for i, x in enumerate(distances) if x > breakpoint_distance_threshold] # The indices of those breakpoints on your list\n",
    "\n",
    "# Start of the shading and text\n",
    "colors = ['b', 'g', 'r', 'c', 'm', 'y', 'k']\n",
    "for i, breakpoint_index in enumerate(indices_above_thresh):\n",
    "    start_index = 0 if i == 0 else indices_above_thresh[i - 1]\n",
    "    end_index = breakpoint_index if i < len(indices_above_thresh) - 1 else len(distances)\n",
    "\n",
    "    plt.axvspan(start_index, end_index, facecolor=colors[i % len(colors)], alpha=0.25)\n",
    "    plt.text(x=np.average([start_index, end_index]),\n",
    "            y=breakpoint_distance_threshold + (y_upper_bound)/ 20,\n",
    "            s=f\"Chunk #{i}\", horizontalalignment='center',\n",
    "            rotation='vertical')\n",
    "\n",
    "# # Additional step to shade from the last breakpoint to the end of the dataset\n",
    "if indices_above_thresh:\n",
    "    last_breakpoint = indices_above_thresh[-1]\n",
    "    if last_breakpoint < len(distances):\n",
    "        plt.axvspan(last_breakpoint, len(distances), facecolor=colors[len(indices_above_thresh) % len(colors)], alpha=0.25)\n",
    "        plt.text(x=np.average([last_breakpoint, len(distances)]),\n",
    "                y=breakpoint_distance_threshold + (y_upper_bound)/ 20,\n",
    "                s=f\"Chunk #{i+1}\",\n",
    "                rotation='vertical')\n",
    "\n",
    "plt.title(\"PG Essay Chunks Based On Embedding Breakpoints\")\n",
    "plt.xlabel(\"Index of sentences in essay (Sentence Position)\")\n",
    "plt.ylabel(\"Cosine distance between sequential sentences\")\n",
    "plt.show()"
   ]
  },
  {
   "cell_type": "markdown",
   "metadata": {},
   "source": [
    "Well now that we've succefully distracted ourselves with a visualization, now we need to combine the sentences into chunks.\n",
    "\n",
    "Because we have our breakpoints [23, 40, 51...] I want to make the first chunk 0-22, since the distance jumped on sentence 23."
   ]
  },
  {
   "cell_type": "code",
   "execution_count": null,
   "metadata": {},
   "outputs": [],
   "source": [
    "# Initialize the start index\n",
    "start_index = 0\n",
    "\n",
    "# Create a list to hold the grouped sentences\n",
    "chunks = []\n",
    "\n",
    "# Iterate through the breakpoints to slice the sentences\n",
    "for index in indices_above_thresh:\n",
    "    # The end index is the current breakpoint\n",
    "    end_index = index\n",
    "\n",
    "    # Slice the sentence_dicts from the current start index to the end index\n",
    "    group = sentences[start_index:end_index + 1]\n",
    "    combined_text = ' '.join([d['sentence'] for d in group])\n",
    "    chunks.append(combined_text)\n",
    "    \n",
    "    # Update the start index for the next group\n",
    "    start_index = index + 1\n",
    "\n",
    "# The last group, if any sentences remain\n",
    "if start_index < len(sentences):\n",
    "    combined_text = ' '.join([d['sentence'] for d in sentences[start_index:]])\n",
    "    chunks.append(combined_text)\n",
    "\n",
    "# grouped_sentences now contains the chunked sentences"
   ]
  },
  {
   "cell_type": "code",
   "execution_count": null,
   "metadata": {},
   "outputs": [],
   "source": [
    "chunks[0]"
   ]
  },
  {
   "cell_type": "code",
   "execution_count": null,
   "metadata": {},
   "outputs": [],
   "source": [
    "for i, chunk in enumerate(chunks[:2]):\n",
    "    buffer = 200\n",
    "    \n",
    "    print (f\"Chunk #{i}\")\n",
    "    print (chunk[:buffer].strip())\n",
    "    print (\"...\")\n",
    "    print (chunk[-buffer:].strip())\n",
    "    print (\"\\n\")"
   ]
  },
  {
   "cell_type": "markdown",
   "metadata": {},
   "source": [
    "## Level 5: Agentic Chunking\n",
    "\n",
    "Tomando el nivel 4 un poco mas allá, podemos darle la misma instrucción a un LLM para que lo haga como lo haría un humano?\n",
    "\n",
    "Pero, como es que un humano haría un chunking?. Basados en el nivel 4 podríamos seguir los siguientes pasos:\n",
    "\n",
    "1. Tomamos una hoja de papel\n",
    "2. Comenzariamos con la primera frase y asumimos que será el primer chunk, dado que no tenemos ningún otro.\n",
    "3. Seguimos leyendo el documento y evaluando si es un nuevo chunk o es parte del chunk anterior o alguno existente. Si es similar a uno existente, lo concatenamos a ese chunk, si no, creamos uno nuevo.\n",
    "4. Seguimos haciendo esto hasta que terminamos el documento."
   ]
  },
  {
   "cell_type": "code",
   "execution_count": null,
   "metadata": {},
   "outputs": [],
   "source": [
    "from langchain.output_parsers.openai_tools import JsonOutputToolsParser\n",
    "from langchain_community.chat_models import ChatOpenAI\n",
    "from langchain_core.prompts import ChatPromptTemplate\n",
    "from langchain_core.runnables import RunnableLambda\n",
    "from langchain.chains import create_extraction_chain\n",
    "from typing import Optional, List\n",
    "from langchain.chains import create_extraction_chain_pydantic\n",
    "from langchain_core.pydantic_v1 import BaseModel\n",
    "from langchain import hub"
   ]
  },
  {
   "cell_type": "code",
   "execution_count": null,
   "metadata": {},
   "outputs": [],
   "source": [
    "from dotenv import load_dotenv\n",
    "\n",
    "load_dotenv()\n",
    "\n",
    "obj = hub.pull(\"wfh/proposal-indexing\")\n",
    "llm = ChatOpenAI(model='GPT-4o mini', openai_api_key = os.getenv(\"OPENAI_API_KEY\"))"
   ]
  },
  {
   "cell_type": "markdown",
   "metadata": {},
   "source": [
    "# Text processing\n",
    "\n"
   ]
  },
  {
   "cell_type": "code",
   "execution_count": null,
   "metadata": {},
   "outputs": [],
   "source": [
    "from langchain_community.document_loaders import PyPDFLoader\n",
    "from langchain_text_splitters import RecursiveCharacterTextSplitter\n",
    "\n",
    "file_path = (\n",
    "    \"./data/Regulaciones cacao y chocolate 2003.pdf\"\n",
    ")\n",
    "loader = PyPDFLoader(file_path)\n",
    "docs = loader.load()\n",
    "\n",
    "text_splitter = RecursiveCharacterTextSplitter(chunk_size=1000, chunk_overlap=200)\n",
    "splits = text_splitter.split_documents(docs)"
   ]
  },
  {
   "cell_type": "code",
   "execution_count": null,
   "metadata": {},
   "outputs": [],
   "source": [
    "pprint(splits[0].page_content)\n"
   ]
  },
  {
   "cell_type": "markdown",
   "metadata": {},
   "source": [
    "### Tokenization, POS and Dependency Parsing"
   ]
  },
  {
   "cell_type": "code",
   "execution_count": null,
   "metadata": {},
   "outputs": [],
   "source": [
    "import spacy\n",
    "# antes de corred la celda: python -m spacy download es_core_news_sm\n",
    "nlp = spacy.load(\"es_core_news_sm\")\n",
    "single_doc = nlp(splits[0].page_content)\n",
    "\n",
    "def tokenize_text(doc):\n",
    "    return[{\n",
    "        \"text\": token.text,\n",
    "        \"position\": token.pos_,\n",
    "        \"dep\": token.dep_,\n",
    "    } for token in doc]\n",
    "tokenize_text(single_doc)\n",
    "\n",
    "for token in tokenize_text(single_doc):\n",
    "    print(token)"
   ]
  },
  {
   "cell_type": "markdown",
   "metadata": {},
   "source": [
    "### Stopwords removal\n"
   ]
  },
  {
   "cell_type": "code",
   "execution_count": null,
   "metadata": {},
   "outputs": [],
   "source": [
    "spacy_stopwords = spacy.lang.es.stop_words.STOP_WORDS\n",
    "\n",
    "def remove_stopwords(doc):\n",
    "    return [token for token in doc if token.text.lower() not in spacy_stopwords]\n",
    "\n",
    "filtered_tokens = remove_stopwords(single_doc)\n",
    "\n",
    "# Print the first few filtered tokens to verify\n",
    "for token in filtered_tokens[:10]:\n",
    "    print(token.text)"
   ]
  },
  {
   "cell_type": "markdown",
   "metadata": {},
   "source": [
    "### Stemming"
   ]
  },
  {
   "cell_type": "code",
   "execution_count": null,
   "metadata": {},
   "outputs": [],
   "source": [
    "from nltk.stem import PorterStemmer\n",
    "\n",
    "stemmer = PorterStemmer()\n",
    "\n",
    "#example\n",
    "text = \"running runners run easily jumper jumps jumping\"\n",
    "\n",
    "doc = nlp(text)\n",
    "\n",
    "# apply stemming\n",
    "stemmed_tokens = [stemmer.stem(token.text) for token in doc]\n",
    "\n",
    "stem_text = \" \".join(stemmed_tokens)\n",
    "\n",
    "print(\"original text\", text)\n",
    "print(\"stemmed text\", stem_text)"
   ]
  },
  {
   "cell_type": "markdown",
   "metadata": {},
   "source": [
    "### Lemmatization"
   ]
  },
  {
   "cell_type": "code",
   "execution_count": null,
   "metadata": {},
   "outputs": [],
   "source": [
    "def lemmatize_text(doc):\n",
    "    return [token.lemma_ for token in doc]\n",
    "\n",
    "lemmatized_tokens = lemmatize_text(single_doc)\n",
    "print(lemmatized_tokens[:10]) "
   ]
  }
 ],
 "metadata": {
  "kernelspec": {
   "display_name": "Python 3 (ipykernel)",
   "language": "python",
   "name": "python3"
  },
  "language_info": {
   "codemirror_mode": {
    "name": "ipython",
    "version": 3
   },
   "file_extension": ".py",
   "mimetype": "text/x-python",
   "name": "python",
   "nbconvert_exporter": "python",
   "pygments_lexer": "ipython3",
   "version": "3.11.6"
  }
 },
 "nbformat": 4,
 "nbformat_minor": 4
}
